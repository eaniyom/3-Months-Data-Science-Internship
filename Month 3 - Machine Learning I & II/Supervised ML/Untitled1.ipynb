{
 "cells": [
  {
   "cell_type": "code",
   "execution_count": 3,
   "id": "ca3fe4d1",
   "metadata": {},
   "outputs": [],
   "source": [
    "def my_print_numbers():\n",
    "    num = (str(i) for i in range(10))\n",
    "    print(''.join(num) + '\\n')"
   ]
  },
  {
   "cell_type": "code",
   "execution_count": 4,
   "id": "c050e071",
   "metadata": {},
   "outputs": [
    {
     "name": "stdout",
     "output_type": "stream",
     "text": [
      "0123456789\n",
      "\n"
     ]
    }
   ],
   "source": [
    "my_print_numbers()"
   ]
  },
  {
   "cell_type": "code",
   "execution_count": 27,
   "id": "db9c8078",
   "metadata": {},
   "outputs": [
    {
     "data": {
      "text/plain": [
       "'a first little tesT'"
      ]
     },
     "execution_count": 27,
     "metadata": {},
     "output_type": "execute_result"
    }
   ],
   "source": [
    "def rcapitalize(param_1):\n",
    "    words = param_1.split(\",\")\n",
    "    result = []\n",
    "    for word in words:\n",
    "        if len(word) == 1:\n",
    "            result.append(word.upper())\n",
    "        else:\n",
    "            capitalized_word = word[:-1].lower() + word[-1].upper()\n",
    "            result.append(capitalized_word)\n",
    "            \n",
    "    return \" \".join(result)\n",
    "\n",
    "rcapitalize(\"a FiRSt LiTTlE TESt\")"
   ]
  },
  {
   "cell_type": "code",
   "execution_count": 23,
   "id": "f048507b",
   "metadata": {},
   "outputs": [
    {
     "data": {
      "text/plain": [
       "['SecONd teST A LITtle BiT   Moar comPLEX']"
      ]
     },
     "execution_count": 23,
     "metadata": {},
     "output_type": "execute_result"
    }
   ],
   "source": [
    "\"SecONd teST A LITtle BiT   Moar comPLEX\".split(\",\")"
   ]
  },
  {
   "cell_type": "code",
   "execution_count": 24,
   "id": "ff947e68",
   "metadata": {},
   "outputs": [],
   "source": [
    "def rcapitalize(param_1):\n",
    "    words = param_1.split(\",\")\n",
    "    result = []\n",
    "    for word in words:\n",
    "        if len(word) == 1:\n",
    "            result.append(word.upper())\n",
    "        else:\n",
    "            capitalized_word = word[:-1].lower() + word[-1].upper()\n",
    "            result.append(capitalized_word)\n",
    "            \n",
    "    return ' '.join(result)"
   ]
  },
  {
   "cell_type": "code",
   "execution_count": 25,
   "id": "d494bc38",
   "metadata": {},
   "outputs": [
    {
     "data": {
      "text/plain": [
       "'second test a little bit   moar compleX'"
      ]
     },
     "execution_count": 25,
     "metadata": {},
     "output_type": "execute_result"
    }
   ],
   "source": [
    "rcapitalize(\"SecONd teST A LITtle BiT   Moar comPLEX\")"
   ]
  },
  {
   "cell_type": "code",
   "execution_count": null,
   "id": "dca4b182",
   "metadata": {},
   "outputs": [],
   "source": []
  }
 ],
 "metadata": {
  "kernelspec": {
   "display_name": "Python 3 (ipykernel)",
   "language": "python",
   "name": "python3"
  },
  "language_info": {
   "codemirror_mode": {
    "name": "ipython",
    "version": 3
   },
   "file_extension": ".py",
   "mimetype": "text/x-python",
   "name": "python",
   "nbconvert_exporter": "python",
   "pygments_lexer": "ipython3",
   "version": "3.10.9"
  }
 },
 "nbformat": 4,
 "nbformat_minor": 5
}
