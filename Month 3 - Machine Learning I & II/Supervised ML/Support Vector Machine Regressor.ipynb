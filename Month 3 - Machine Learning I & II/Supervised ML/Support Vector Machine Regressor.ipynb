{
 "cells": [
  {
   "cell_type": "markdown",
   "id": "7fdeedfc",
   "metadata": {},
   "source": [
    "### Task: Prediction of House prices\n",
    "\n",
    "1. import neccesary libraries\n",
    "2. Load the data\n",
    "3. Exploratory Data Analysis\n",
    "    * get the overview of the data\n",
    "    * Check for missing values \n",
    "    * Check for duplicates\n",
    "    * Make a visualization to show the trend between the house price and the purchase date\n",
    "    \n",
    "4. Statistical summary\n",
    "    * Statistical parameters\n",
    "    * Correlations (heatmap, pearson score, pairplots)\n",
    "5. Data Preprocessing \n",
    "    * Get the input and the target variables\n",
    "    * Split the data into train and test \n",
    "6. Modeling\n",
    "    * SVR\n",
    "    * Decisin Tree\n",
    "    * Linear Regression\n",
    "7. Evaluation and Comparision of the models"
   ]
  },
  {
   "cell_type": "code",
   "execution_count": 6,
   "id": "24c7ebe0",
   "metadata": {},
   "outputs": [],
   "source": [
    "from sklearn.svm import SVR\n"
   ]
  },
  {
   "cell_type": "code",
   "execution_count": 7,
   "id": "c240052f",
   "metadata": {},
   "outputs": [],
   "source": [
    "\n",
    "svr_model = SVR()"
   ]
  },
  {
   "cell_type": "code",
   "execution_count": null,
   "id": "eb1ca8ae",
   "metadata": {},
   "outputs": [],
   "source": [
    "svr_model.fit(x_train, y_train)"
   ]
  }
 ],
 "metadata": {
  "kernelspec": {
   "display_name": "Python 3 (ipykernel)",
   "language": "python",
   "name": "python3"
  },
  "language_info": {
   "codemirror_mode": {
    "name": "ipython",
    "version": 3
   },
   "file_extension": ".py",
   "mimetype": "text/x-python",
   "name": "python",
   "nbconvert_exporter": "python",
   "pygments_lexer": "ipython3",
   "version": "3.10.9"
  }
 },
 "nbformat": 4,
 "nbformat_minor": 5
}
