{
 "cells": [
  {
   "cell_type": "markdown",
   "id": "25112db9",
   "metadata": {},
   "source": [
    "## Project 2\n",
    "\n",
    "#### Instructions\n",
    "\n",
    "1. This project is expected to be completed with python. It covers the topics done on statistics and mathematics in the past classes.\n",
    "2. Answer all questions\n",
    "3. You can use any source for your solution."
   ]
  },
  {
   "cell_type": "markdown",
   "id": "66e0e703",
   "metadata": {},
   "source": []
  },
  {
   "attachments": {
    "image.png": {
     "image/png": "[encoded data removed]"
    }
   },
   "cell_type": "markdown",
   "id": "9ad35741",
   "metadata": {},
   "source": [
    "#### Problem 1. University survey\n",
    "The table below summarizes the results of a survey that asked 5000 faculty and students at a Canadian\n",
    "university whether they support a proposed ban on the sale of junk food (chips, pop, candy, and\n",
    "chocolate bars) on campus.\n",
    "\n",
    "![image.png](attachment:image.png)\n",
    "\n",
    "If one of the 5000 individuals surveyed is selected at random:\n",
    "\n",
    "a. Find the probability that the individual selected opposes the proposed ban.\n",
    "\n",
    "b. Find the probability that the individual selected is a student. \n",
    "\n",
    "c. Find the probability that the individual selected is a student and opposes the proposed ban.\n",
    "\n",
    "\n",
    "d. Find the probability that the individual selected is faculty or supports the proposed ban.\n",
    "\n",
    "\n",
    "e. Find the probability that the individual selected is a student given that the individual selected\n",
    "opposes the proposed ban.\n",
    "\n",
    "f. Find the probability that the individual selected supports the proposed ban given that the\n",
    "individual selected is faculty.\n",
    "\n",
    "g. Are the events “being a student” and “support the proposed ban” mutually exclusive events?\n",
    "Explain. \n",
    "\n",
    "h. Are the events “being a student” and “oppose the proposed ban” independent events?\n",
    "Determine the answer by showing the appropriate math work."
   ]
  },
  {
   "cell_type": "code",
   "execution_count": null,
   "id": "cf982a19",
   "metadata": {},
   "outputs": [],
   "source": []
  },
  {
   "attachments": {
    "image.png": {
     "image/png": "[encoded data removed]"
    }
   },
   "cell_type": "markdown",
   "id": "e98e83ae",
   "metadata": {},
   "source": [
    "#### Problem 2. Shirts sold\n",
    "In analyzing the sales of the last 200 dress shirts sold at a large men’s wear retail outlet, the manager\n",
    "created the following frequency table.\n",
    "\n",
    "![image.png](attachment:image.png)\n",
    "\n",
    "When the next customer walks in to buy a dress shirt, find the probability that:\n",
    "\n",
    "a. The customer will buy a large dress shirt. \n",
    "\n",
    "b. The customer will not buy a small dress shirt. \n",
    "\n",
    "c. What type (concept) of probability are you using in determining your answer to part a above?\n",
    "Briefly explain.\n"
   ]
  },
  {
   "cell_type": "code",
   "execution_count": null,
   "id": "42531cab",
   "metadata": {},
   "outputs": [],
   "source": []
  },
  {
   "cell_type": "markdown",
   "id": "f1d830f3",
   "metadata": {},
   "source": [
    "#### Problem 3. Jobs-for-All\n",
    "The owner of Jobs-for-All, a privately run job readiness program, publicly claims that anyone who has\n",
    "successfully completed this program will have a 90% chance of finding full-time employment within a\n",
    "month after graduating.\n",
    "\n",
    "To investigate the owner’s claim, a consumer protection agency contacted three people, at random,\n",
    "who had successfully completed Jobs-for-All. The agency was careful to ensure that these three people\n",
    "were contacted one month after graduating from the program. Assuming that the owner’s claim is\n",
    "accurate, compute the following probabilities.\n",
    "\n",
    "a. What is the probability that all three people contacted obtained full-time jobs?\n",
    "\n",
    "b. What is the probability that none of the three people contacted obtained full-time jobs.\n",
    "\n",
    "\n",
    "c. What is the probability that at least one of the three people contacted obtained full-time work?\n"
   ]
  },
  {
   "cell_type": "markdown",
   "id": "d4d07f35",
   "metadata": {},
   "source": []
  },
  {
   "cell_type": "markdown",
   "id": "2e8d77e7",
   "metadata": {},
   "source": [
    "#### Problem 4. Curling competition\n",
    "Twenty curling teams (each representing a different country) are competing for gold, silver, and bronze\n",
    "medals in a week-long world tournament. In how many different ways can the curling teams win gold,\n",
    "silver, and bronze?"
   ]
  },
  {
   "cell_type": "code",
   "execution_count": null,
   "id": "7a476d5f",
   "metadata": {},
   "outputs": [],
   "source": []
  },
  {
   "cell_type": "markdown",
   "id": "51abc5b1",
   "metadata": {},
   "source": [
    "#### Problem 5. Lottery\n",
    "In a popular local lottery, you must select 3 numbers (in any order) correctly out of a possible\n",
    "25 numbers to win the top prize. If you purchase one ticket (with your three numbers on it), what is the\n",
    "probability of your winning the top prize? Keep your final answer to six decimals."
   ]
  },
  {
   "cell_type": "code",
   "execution_count": null,
   "id": "11fdc55b",
   "metadata": {},
   "outputs": [],
   "source": []
  },
  {
   "cell_type": "markdown",
   "id": "1fb86ea9",
   "metadata": {},
   "source": [
    "#### To be Submitted on or before: Tuesday 18th July 2023!!!"
   ]
  },
  {
   "cell_type": "code",
   "execution_count": null,
   "id": "b4502154",
   "metadata": {},
   "outputs": [],
   "source": []
  }
 ],
 "metadata": {
  "kernelspec": {
   "display_name": "Python 3 (ipykernel)",
   "language": "python",
   "name": "python3"
  },
  "language_info": {
   "codemirror_mode": {
    "name": "ipython",
    "version": 3
   },
   "file_extension": ".py",
   "mimetype": "text/x-python",
   "name": "python",
   "nbconvert_exporter": "python",
   "pygments_lexer": "ipython3",
   "version": "3.10.9"
  }
 },
 "nbformat": 4,
 "nbformat_minor": 5
}
