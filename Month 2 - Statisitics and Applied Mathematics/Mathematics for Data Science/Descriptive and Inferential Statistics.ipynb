{
 "cells": [
  {
   "cell_type": "markdown",
   "id": "309b38a2",
   "metadata": {},
   "source": [
    "# Outline\n",
    "\n",
    "1. Descriptive Statistics\n",
    "    * Mean\n",
    "    * Median\n",
    "    * Mode\n",
    "    * Variance and Standard Deviation\n",
    "2. Inferential Statistics\n",
    "    * Central Limit Theorem \n",
    "    * Confidence Intervals\n",
    "    * Hypothesis Testing\n"
   ]
  },
  {
   "cell_type": "markdown",
   "id": "51cd543d",
   "metadata": {},
   "source": [
    "### Recap on Statistics\n",
    "Statistics is the practice of collecting and analyzing data to discover findings that\n",
    "are useful or predict what causes those findings to happen. Probability often plays\n",
    "a large role in statistics, as we use data to estimate how likely an event is to\n",
    "happen."
   ]
  },
  {
   "cell_type": "markdown",
   "id": "00cdaf37",
   "metadata": {},
   "source": [
    "Statistics is the heart of many data-driven innovations. Machine learning in itself is a statistical tool, searching for possible hypotheses to correlate relationships between different variables in data."
   ]
  },
  {
   "cell_type": "markdown",
   "id": "45d25e01",
   "metadata": {},
   "source": [
    "In this section we will cover the fundamentals of statistics and hypothesis testing.\n",
    "Starting with descriptive statistics, we will learn common ways to summarize\n",
    "data. After that, we will venture into inferential statistics, where we try to\n",
    "uncover attributes of a population based on a sample."
   ]
  },
  {
   "cell_type": "markdown",
   "id": "61ebaae9",
   "metadata": {},
   "source": [
    "#### 1. Descriptive Statistics\n",
    "This is the area most people are familiar with. It cuts across mean, median, and mode followed by variance, standard deviation and normal distribution."
   ]
  },
  {
   "cell_type": "markdown",
   "id": "3b37047c",
   "metadata": {},
   "source": [
    "* Mean and Weighted Mean"
   ]
  },
  {
   "cell_type": "markdown",
   "id": "cec0cee3",
   "metadata": {},
   "source": [
    "The mean is the average of a set of values. It is simply the sum of the values which is divided by the number of values. Mean is calculated the same way for both populations and samples. Below is a calculation of mean in python."
   ]
  },
  {
   "cell_type": "code",
   "execution_count": 12,
   "id": "38dad390",
   "metadata": {},
   "outputs": [
    {
     "name": "stdout",
     "output_type": "stream",
     "text": [
      "30.25\n"
     ]
    }
   ],
   "source": [
    "# Calculating the mean in python\n",
    "\n",
    "samples = [21, 28, 34, 39, 44, 22, 28, 34, 39, 44, 24, 28, 24, 28, 23, 29, 24, 44, 22, 26]\n",
    "\n",
    "mean = sum(samples)/len(samples)\n",
    "\n",
    "print(mean)"
   ]
  },
  {
   "cell_type": "markdown",
   "id": "b846d5be",
   "metadata": {},
   "source": [
    "There are two versions of the mean you will see: the sample mean ¯x and the\n",
    "population mean μ as expressed here:"
   ]
  },
  {
   "attachments": {
    "image.png": {
     "image/png": "[encoded data removed]"
    }
   },
   "cell_type": "markdown",
   "id": "43fbf3b2",
   "metadata": {},
   "source": [
    "![image.png](attachment:image.png)"
   ]
  },
  {
   "cell_type": "markdown",
   "id": "326b577f",
   "metadata": {},
   "source": [
    "Both ¯x and μ are\n",
    "the same calculation, just different names depending on whether it’s a sample or\n",
    "population we are working with."
   ]
  },
  {
   "cell_type": "markdown",
   "id": "ba22862c",
   "metadata": {},
   "source": [
    "The mean is likely familiar to you, but here’s something less known about the\n",
    "mean: the mean is actually a weighted average called the $weighted$ $mean$."
   ]
  },
  {
   "attachments": {
    "image.png": {
     "image/png": "[encoded data removed]"
    }
   },
   "cell_type": "markdown",
   "id": "c567f270",
   "metadata": {},
   "source": [
    "![image.png](attachment:image.png)"
   ]
  },
  {
   "cell_type": "code",
   "execution_count": 13,
   "id": "7c697cbe",
   "metadata": {},
   "outputs": [
    {
     "name": "stdout",
     "output_type": "stream",
     "text": [
      "81.4\n"
     ]
    }
   ],
   "source": [
    "# Calculating a weighted mean in Python\n",
    "# Three exams of .20 weight each and final exam of .40 weight\n",
    "sample = [90, 80, 63, 87]\n",
    "weights = [.20, .20, .20, .40]\n",
    "\n",
    "weighted_mean = sum(s * w for s, w in zip(sample, weights)) / sum(weights)\n",
    "\n",
    "print(weighted_mean) # prints 81.4"
   ]
  },
  {
   "cell_type": "markdown",
   "id": "18cdc9e9",
   "metadata": {},
   "source": [
    "* Median"
   ]
  },
  {
   "cell_type": "markdown",
   "id": "db124618",
   "metadata": {},
   "source": [
    "The median is the middlemost value in a set of ordered values. The values are sequentially ordered and the median will be the centermost values."
   ]
  },
  {
   "cell_type": "code",
   "execution_count": 14,
   "id": "fd31243d",
   "metadata": {},
   "outputs": [
    {
     "name": "stdout",
     "output_type": "stream",
     "text": [
      "The sorted values: \n",
      " [21, 22, 22, 23, 24, 24, 24, 26, 28, 28, 28, 28, 29, 34, 34, 39, 39, 44, 44, 44]\n",
      "\n",
      "The median is:  28.0\n"
     ]
    }
   ],
   "source": [
    "# Calculating the median in python\n",
    "\n",
    "# No of pets each person owns\n",
    "#sample = [0, 1, 5, 7, 9, 10, 14, 12]\n",
    "\n",
    "# Defining a function for the execution of the median\n",
    "def median(values):\n",
    "    ordered = sorted(values) # Values are sorted \n",
    "    print('The sorted values: \\n', ordered)\n",
    "    print()\n",
    "    \n",
    "    # Getting the length of the arrays\n",
    "    n = len(ordered)\n",
    "    \n",
    "    # Solving for the middle number\n",
    "    mid = int(n / 2) - 1 if n % 2 == 0 else int(n/2)\n",
    "    \n",
    "    # Conditional evaluation \n",
    "    if n % 2 == 0:\n",
    "        return (ordered[mid] + ordered[mid+1]) / 2.0\n",
    "    else:\n",
    "        return ordered[mid]\n",
    "    \n",
    "print('The median is: ', median(samples)) # prints 7"
   ]
  },
  {
   "cell_type": "code",
   "execution_count": 15,
   "id": "3da1c80c",
   "metadata": {},
   "outputs": [
    {
     "data": {
      "text/plain": [
       "56"
      ]
     },
     "execution_count": 15,
     "metadata": {},
     "output_type": "execute_result"
    }
   ],
   "source": [
    "28+28"
   ]
  },
  {
   "cell_type": "markdown",
   "id": "bc4a9252",
   "metadata": {},
   "source": [
    "The median is actually the 50% quantile, or the value where 50% of ordered values are behind it"
   ]
  },
  {
   "cell_type": "markdown",
   "id": "a1cba60c",
   "metadata": {},
   "source": [
    "* Mode\n",
    "\n",
    "The mode is the most frequently occurring set of values. It primarily becomes useful when your data is repetitive and you want to find which values occur the most frequently.\n",
    "\n",
    "When no value occurs more than once, there is no mode. When two values occur with an equal amount of frequency, then the dataset is considered $bimodal$."
   ]
  },
  {
   "cell_type": "code",
   "execution_count": 21,
   "id": "80bcc27a",
   "metadata": {},
   "outputs": [],
   "source": [
    "a = range(0, 13)"
   ]
  },
  {
   "cell_type": "code",
   "execution_count": 24,
   "id": "6cf38cf8",
   "metadata": {},
   "outputs": [],
   "source": [
    "mult_2 = lambda y: y*2"
   ]
  },
  {
   "cell_type": "code",
   "execution_count": 25,
   "id": "4de81424",
   "metadata": {},
   "outputs": [
    {
     "name": "stdout",
     "output_type": "stream",
     "text": [
      "0 x 2 = 0\n",
      "1 x 2 = 2\n",
      "2 x 2 = 4\n",
      "3 x 2 = 6\n",
      "4 x 2 = 8\n",
      "5 x 2 = 10\n",
      "6 x 2 = 12\n",
      "7 x 2 = 14\n",
      "8 x 2 = 16\n",
      "9 x 2 = 18\n",
      "10 x 2 = 20\n",
      "11 x 2 = 22\n",
      "12 x 2 = 24\n"
     ]
    }
   ],
   "source": [
    "for _ in a:\n",
    "    print(_,'x 2 =',mult_2(_))"
   ]
  },
  {
   "cell_type": "code",
   "execution_count": null,
   "id": "128792ac",
   "metadata": {},
   "outputs": [],
   "source": [
    "counts = {values: counts,\n",
    "          0: 1, \n",
    "         1: 1,\n",
    "         3: 2,\n",
    "         2: 2,\n",
    "         }"
   ]
  },
  {
   "cell_type": "code",
   "execution_count": 23,
   "id": "c9874bd9",
   "metadata": {},
   "outputs": [
    {
     "name": "stdout",
     "output_type": "stream",
     "text": [
      "[28]\n"
     ]
    }
   ],
   "source": [
    "# Calculating the mode in Python\n",
    "from collections import defaultdict\n",
    "\n",
    "#sample = [1, 2, 5, 7, 0, 2, 3]\n",
    "\n",
    "def mode(values):\n",
    "    counts = defaultdict(lambda: 0)\n",
    "    \n",
    "    for s in values:\n",
    "        counts[s] += 1\n",
    "        \n",
    "    max_count = max(counts.values())\n",
    "    modes = [v for v in set(values) if counts[v] == max_count]\n",
    "    return modes\n",
    "\n",
    "print(mode(samples)) # [2, 3]"
   ]
  },
  {
   "cell_type": "markdown",
   "id": "4ea8cd19",
   "metadata": {},
   "source": [
    "In practicality, the mode is not used a lot unless your data is repetitive. This is commonly encountered with integers, categories, and other discrete variables."
   ]
  },
  {
   "cell_type": "code",
   "execution_count": 12,
   "id": "72287e73",
   "metadata": {},
   "outputs": [
    {
     "name": "stdout",
     "output_type": "stream",
     "text": [
      "Help on class defaultdict in module collections:\n",
      "\n",
      "class defaultdict(builtins.dict)\n",
      " |  defaultdict(default_factory=None, /, [...]) --> dict with default factory\n",
      " |  \n",
      " |  The default factory is called without arguments to produce\n",
      " |  a new value when a key is not present, in __getitem__ only.\n",
      " |  A defaultdict compares equal to a dict with the same items.\n",
      " |  All remaining arguments are treated the same as if they were\n",
      " |  passed to the dict constructor, including keyword arguments.\n",
      " |  \n",
      " |  Method resolution order:\n",
      " |      defaultdict\n",
      " |      builtins.dict\n",
      " |      builtins.object\n",
      " |  \n",
      " |  Methods defined here:\n",
      " |  \n",
      " |  __copy__(...)\n",
      " |      D.copy() -> a shallow copy of D.\n",
      " |  \n",
      " |  __getattribute__(self, name, /)\n",
      " |      Return getattr(self, name).\n",
      " |  \n",
      " |  __init__(self, /, *args, **kwargs)\n",
      " |      Initialize self.  See help(type(self)) for accurate signature.\n",
      " |  \n",
      " |  __missing__(...)\n",
      " |      __missing__(key) # Called by __getitem__ for missing key; pseudo-code:\n",
      " |      if self.default_factory is None: raise KeyError((key,))\n",
      " |      self[key] = value = self.default_factory()\n",
      " |      return value\n",
      " |  \n",
      " |  __or__(self, value, /)\n",
      " |      Return self|value.\n",
      " |  \n",
      " |  __reduce__(...)\n",
      " |      Return state information for pickling.\n",
      " |  \n",
      " |  __repr__(self, /)\n",
      " |      Return repr(self).\n",
      " |  \n",
      " |  __ror__(self, value, /)\n",
      " |      Return value|self.\n",
      " |  \n",
      " |  copy(...)\n",
      " |      D.copy() -> a shallow copy of D.\n",
      " |  \n",
      " |  ----------------------------------------------------------------------\n",
      " |  Class methods defined here:\n",
      " |  \n",
      " |  __class_getitem__(...) from builtins.type\n",
      " |      See PEP 585\n",
      " |  \n",
      " |  ----------------------------------------------------------------------\n",
      " |  Data descriptors defined here:\n",
      " |  \n",
      " |  default_factory\n",
      " |      Factory for default value called by __missing__().\n",
      " |  \n",
      " |  ----------------------------------------------------------------------\n",
      " |  Methods inherited from builtins.dict:\n",
      " |  \n",
      " |  __contains__(self, key, /)\n",
      " |      True if the dictionary has the specified key, else False.\n",
      " |  \n",
      " |  __delitem__(self, key, /)\n",
      " |      Delete self[key].\n",
      " |  \n",
      " |  __eq__(self, value, /)\n",
      " |      Return self==value.\n",
      " |  \n",
      " |  __ge__(self, value, /)\n",
      " |      Return self>=value.\n",
      " |  \n",
      " |  __getitem__(...)\n",
      " |      x.__getitem__(y) <==> x[y]\n",
      " |  \n",
      " |  __gt__(self, value, /)\n",
      " |      Return self>value.\n",
      " |  \n",
      " |  __ior__(self, value, /)\n",
      " |      Return self|=value.\n",
      " |  \n",
      " |  __iter__(self, /)\n",
      " |      Implement iter(self).\n",
      " |  \n",
      " |  __le__(self, value, /)\n",
      " |      Return self<=value.\n",
      " |  \n",
      " |  __len__(self, /)\n",
      " |      Return len(self).\n",
      " |  \n",
      " |  __lt__(self, value, /)\n",
      " |      Return self<value.\n",
      " |  \n",
      " |  __ne__(self, value, /)\n",
      " |      Return self!=value.\n",
      " |  \n",
      " |  __reversed__(self, /)\n",
      " |      Return a reverse iterator over the dict keys.\n",
      " |  \n",
      " |  __setitem__(self, key, value, /)\n",
      " |      Set self[key] to value.\n",
      " |  \n",
      " |  __sizeof__(...)\n",
      " |      D.__sizeof__() -> size of D in memory, in bytes\n",
      " |  \n",
      " |  clear(...)\n",
      " |      D.clear() -> None.  Remove all items from D.\n",
      " |  \n",
      " |  get(self, key, default=None, /)\n",
      " |      Return the value for key if key is in the dictionary, else default.\n",
      " |  \n",
      " |  items(...)\n",
      " |      D.items() -> a set-like object providing a view on D's items\n",
      " |  \n",
      " |  keys(...)\n",
      " |      D.keys() -> a set-like object providing a view on D's keys\n",
      " |  \n",
      " |  pop(...)\n",
      " |      D.pop(k[,d]) -> v, remove specified key and return the corresponding value.\n",
      " |      \n",
      " |      If the key is not found, return the default if given; otherwise,\n",
      " |      raise a KeyError.\n",
      " |  \n",
      " |  popitem(self, /)\n",
      " |      Remove and return a (key, value) pair as a 2-tuple.\n",
      " |      \n",
      " |      Pairs are returned in LIFO (last-in, first-out) order.\n",
      " |      Raises KeyError if the dict is empty.\n",
      " |  \n",
      " |  setdefault(self, key, default=None, /)\n",
      " |      Insert key with a value of default if key is not in the dictionary.\n",
      " |      \n",
      " |      Return the value for key if key is in the dictionary, else default.\n",
      " |  \n",
      " |  update(...)\n",
      " |      D.update([E, ]**F) -> None.  Update D from dict/iterable E and F.\n",
      " |      If E is present and has a .keys() method, then does:  for k in E: D[k] = E[k]\n",
      " |      If E is present and lacks a .keys() method, then does:  for k, v in E: D[k] = v\n",
      " |      In either case, this is followed by: for k in F:  D[k] = F[k]\n",
      " |  \n",
      " |  values(...)\n",
      " |      D.values() -> an object providing a view on D's values\n",
      " |  \n",
      " |  ----------------------------------------------------------------------\n",
      " |  Class methods inherited from builtins.dict:\n",
      " |  \n",
      " |  fromkeys(iterable, value=None, /) from builtins.type\n",
      " |      Create a new dictionary with keys from iterable and values set to value.\n",
      " |  \n",
      " |  ----------------------------------------------------------------------\n",
      " |  Static methods inherited from builtins.dict:\n",
      " |  \n",
      " |  __new__(*args, **kwargs) from builtins.type\n",
      " |      Create and return a new object.  See help(type) for accurate signature.\n",
      " |  \n",
      " |  ----------------------------------------------------------------------\n",
      " |  Data and other attributes inherited from builtins.dict:\n",
      " |  \n",
      " |  __hash__ = None\n",
      "\n"
     ]
    }
   ],
   "source": [
    "help(defaultdict)"
   ]
  },
  {
   "cell_type": "markdown",
   "id": "aec23512",
   "metadata": {},
   "source": [
    "* Variance and Standard Deviation\n",
    "\n",
    "When we start talking about variance and standard deviation, this is where it gets interesting. One thing that confuses people with variance and standard deviation is there are some calculation differences for the sample versus the population. I will do my best to cover these differences clearly."
   ]
  },
  {
   "cell_type": "markdown",
   "id": "18356c91",
   "metadata": {},
   "source": [
    "Let’s say I’m interested in studying the number of pets owned by members of my work staff (note that I’m defining this as my population, not a sample). I have seven people on my staff.\n",
    "\n",
    "I take the mean of all the numbers of pets they own, and I get 6.571. Let’s subtract this mean from each value. This will show us how far each value is from the mean as shown in the table below;"
   ]
  },
  {
   "cell_type": "markdown",
   "id": "1e839c80",
   "metadata": {},
   "source": [
    "|Value|Mean|Difference|\n",
    "|--|--|--|\n",
    "|0|6.571|-6.571|\n",
    "|1|6.571|-5.571|\n",
    "|5|6.571|-1.571|\n",
    "|7|6.571|0.429|\n",
    "|9|6.571|2.429|\n",
    "|10|6.571|3.429|\n",
    "|14|6.571|7.429|"
   ]
  },
  {
   "attachments": {
    "image.png": {
     "image/png": "[encoded data removed]"
    }
   },
   "cell_type": "markdown",
   "id": "ef87f07d",
   "metadata": {},
   "source": [
    "In visualizing  the data on a number line with the mean indicated as 'X' is given as;\n",
    "![image.png](attachment:image.png)"
   ]
  },
  {
   "attachments": {
    "image.png": {
     "image/png": "[encoded data removed]"
    }
   },
   "cell_type": "markdown",
   "id": "8dfabf71",
   "metadata": {},
   "source": [
    "The differences give us a sense of how spread out the data is and how far values are from the mean. We can think of a way to consolidate this spread into a single number by quickly considering the average of the differenece. \n",
    "\n",
    "But an even approach to this would be squaring the differences of the spread before taking the average. This will handle the following limitations;\n",
    "- Removes negative values\n",
    "- Amplifiers the larger differences for it to be easier to work with.\n",
    "\n",
    "The average squares of the differences will then give the $variance$. This gives us the measure of how our data is spread; The mathematically formular is given as;\n",
    "\n",
    "![image.png](attachment:image.png)"
   ]
  },
  {
   "attachments": {
    "image.png": {
     "image/png": "[encoded data removed]"
    }
   },
   "cell_type": "markdown",
   "id": "e1743444",
   "metadata": {},
   "source": [
    "More formally, the varaince is given as;\n",
    "\n",
    "![image.png](attachment:image.png)"
   ]
  },
  {
   "cell_type": "code",
   "execution_count": 25,
   "id": "7e775d17",
   "metadata": {},
   "outputs": [
    {
     "data": {
      "text/plain": [
       "20"
      ]
     },
     "execution_count": 25,
     "metadata": {},
     "output_type": "execute_result"
    }
   ],
   "source": [
    "len(samples)"
   ]
  },
  {
   "cell_type": "code",
   "execution_count": 26,
   "id": "fdfec689",
   "metadata": {},
   "outputs": [
    {
     "name": "stdout",
     "output_type": "stream",
     "text": [
      "58.9875\n"
     ]
    }
   ],
   "source": [
    "# Calculating variance in Python\n",
    "#data = [0, 1, 5, 7, 9, 10, 14]\n",
    "\n",
    "def variance(values):\n",
    "    mean = sum(values) / len(values)\n",
    "    \n",
    "    _variance = sum((v - mean) ** 2 for v in values) / len(values)\n",
    "    return _variance\n",
    "\n",
    "print(variance(samples))"
   ]
  },
  {
   "attachments": {
    "image.png": {
     "image/png": "[encoded data removed]"
    }
   },
   "cell_type": "markdown",
   "id": "54a9cd39",
   "metadata": {},
   "source": [
    "So the variance for number of pets owned by my office staff is $21.387755$. But what does it exactly mean? It’s reasonable to conclude that a higher variance means more spread, but how do we relate this back to our data? This number is larger than any of our observations because we did a lot squaring and summing, putting it on an entirely different metric. So how do we squeeze it back down so it’s back on the scale we started with?\n",
    "\n",
    "\n",
    "The opposite of a square is a square root, so let’s take the square root of the variance, which gives us the $standard$ $deviation$. This is the variance scaled into a number expressed in terms of “number of pets,” which makes it a bit more\n",
    "meaningful:\n",
    "![image.png](attachment:image.png)"
   ]
  },
  {
   "cell_type": "code",
   "execution_count": 28,
   "id": "fbbba255",
   "metadata": {},
   "outputs": [
    {
     "data": {
      "text/plain": [
       "[21,\n",
       " 28,\n",
       " 34,\n",
       " 39,\n",
       " 44,\n",
       " 22,\n",
       " 28,\n",
       " 34,\n",
       " 39,\n",
       " 44,\n",
       " 24,\n",
       " 28,\n",
       " 24,\n",
       " 28,\n",
       " 23,\n",
       " 29,\n",
       " 24,\n",
       " 44,\n",
       " 22,\n",
       " 26]"
      ]
     },
     "execution_count": 28,
     "metadata": {},
     "output_type": "execute_result"
    }
   ],
   "source": [
    "samples"
   ]
  },
  {
   "cell_type": "code",
   "execution_count": 27,
   "id": "b1bec1c1",
   "metadata": {},
   "outputs": [
    {
     "name": "stdout",
     "output_type": "stream",
     "text": [
      "7.680332024072918\n"
     ]
    }
   ],
   "source": [
    "# Calculating standard deviation in Python\n",
    "from math import sqrt\n",
    "\n",
    "# Number of pets each person owns\n",
    "data = [0, 1, 5, 7, 9, 10, 14]\n",
    "\n",
    "def variance(values):\n",
    "    mean = sum(values) / len(values)\n",
    "    _variance = sum((v - mean) ** 2 for v in values) / len(values)\n",
    "    return _variance\n",
    "\n",
    "def std_dev(values):\n",
    "    return sqrt(variance(values))\n",
    "\n",
    "\n",
    "print(std_dev(samples)) "
   ]
  },
  {
   "cell_type": "markdown",
   "id": "b9e19051",
   "metadata": {},
   "source": [
    "You will see our standard deviation is approximately 4.62 pets. So we can express our spread on a scale we started with, and this makes our variance a bit easier to interpret."
   ]
  },
  {
   "attachments": {
    "image.png": {
     "image/png": "[encoded data removed]"
    }
   },
   "cell_type": "markdown",
   "id": "f08e23e7",
   "metadata": {},
   "source": [
    "* The Normal Distribution\n",
    "\n",
    "The $normal$ $distribution$, also known as the $Gaussian$ $distribution$, is a symmetrical bell-shaped distribution that has most mass around the mean, and its spread is defined as a standard deviation. The “tails” on either side become thinner as you move away from the mean.\n",
    "![image.png](attachment:image.png)"
   ]
  },
  {
   "attachments": {
    "image-2.png": {
     "image/png": "[encoded data removed]"
    }
   },
   "cell_type": "markdown",
   "id": "699a6ea0",
   "metadata": {},
   "source": [
    "![image-2.png](attachment:image-2.png)"
   ]
  },
  {
   "attachments": {
    "image.png": {
     "image/png": "[encoded data removed]"
    }
   },
   "cell_type": "markdown",
   "id": "2da21ec6",
   "metadata": {},
   "source": [
    "The standard deviation plays an important role in the normal distribution, because it defines how “spread out” it is. It is actually one of the parameters alongside the mean. The $probability$ $density$ $function$ $(PDF)$ that creates the normal distribution is as follows:\n",
    "![image.png](attachment:image.png)"
   ]
  },
  {
   "cell_type": "code",
   "execution_count": 38,
   "id": "e183c7ba",
   "metadata": {},
   "outputs": [],
   "source": [
    "# The normal distribution function in Python\n",
    "def normal_pdf(x: float, mean: float, std_dev: float):\n",
    "    \n",
    "    return (1.0 / (2.0 * math.pi * std_dev ** 2) ** 0.5) * math.exp(-1.0 * ((x - mean) ** 2 / (2.0 * std_dev ** 2)))"
   ]
  },
  {
   "cell_type": "markdown",
   "id": "96627f2b",
   "metadata": {},
   "source": [
    "#### 2. Inferential Statistics\n",
    "\n",
    "Descriptive statistics, which we have covered so far, is commonly understood. However, when we get into inferential statistics the abstract relationships between sample and population come into full play. These abstract nuances are not something you want to rush through but rather take your time and absorb thoughtfully."
   ]
  },
  {
   "cell_type": "markdown",
   "id": "0e2f4c16",
   "metadata": {},
   "source": [
    "As stated earlier, we are wired as humans to be biased and quickly\n",
    "come to conclusions. Being a good data science professional requires you to suppress that primal desire and consider the possibility that other explanations can exist."
   ]
  },
  {
   "cell_type": "markdown",
   "id": "22686134",
   "metadata": {},
   "source": [
    "First let’s start with the theorem that lays the foundation for all inferential statistics.\n",
    "\n",
    "* The Central Limit Theorem\n",
    "\n",
    "The central limit theorem helps to put a population which is not in a normal distribution into a normal distribution. "
   ]
  },
  {
   "cell_type": "code",
   "execution_count": 47,
   "id": "50e20e64",
   "metadata": {},
   "outputs": [
    {
     "data": {
      "text/plain": [
       "1000"
      ]
     },
     "execution_count": 47,
     "metadata": {},
     "output_type": "execute_result"
    }
   ],
   "source": [
    "len([sum([random.uniform(0.0, 1.0) for i in range(31)])/31 for _ in range(1000)])"
   ]
  },
  {
   "cell_type": "code",
   "execution_count": 52,
   "id": "ff697ce5",
   "metadata": {},
   "outputs": [
    {
     "name": "stdout",
     "output_type": "stream",
     "text": [
      "Help on method uniform in module random:\n",
      "\n",
      "uniform(a, b) method of random.Random instance\n",
      "    Get a random number in the range [a, b) or [a, b] depending on rounding.\n",
      "\n"
     ]
    }
   ],
   "source": [
    "help(random.uniform)"
   ]
  },
  {
   "cell_type": "code",
   "execution_count": 53,
   "id": "d8f61159",
   "metadata": {},
   "outputs": [
    {
     "data": {
      "application/vnd.plotly.v1+json": {
       "config": {
        "plotlyServerURL": "https://plot.ly"
       },
       "data": [
        {
         "alignmentgroup": "True",
         "bingroup": "x",
         "histfunc": "sum",
         "hovertemplate": "x=%{x}<br>sum of y=%{y}<extra></extra>",
         "legendgroup": "",
         "marker": {
          "color": "#636efa",
          "pattern": {
           "shape": ""
          }
         },
         "name": "",
         "nbinsx": 20,
         "offsetgroup": "",
         "orientation": "v",
         "showlegend": false,
         "type": "histogram",
         "x": [
          0.5242069544653596,
          0.45189883780813106,
          0.5865900806814293,
          0.49963450771545864,
          0.6104955520285661,
          0.5570080786207067,
          0.512054988965414,
          0.4660483073477987,
          0.443720504093632,
          0.5309519056919032,
          0.3650720394618247,
          0.4379965333059492,
          0.41463477260215187,
          0.43576077415930475,
          0.5168426482752209,
          0.4721404045823936,
          0.568976004713715,
          0.5687106961835916,
          0.5295339959552846,
          0.5065726242811768,
          0.5256711218131902,
          0.46907902695676457,
          0.5701845852912623,
          0.5353872102664675,
          0.43127399973824626,
          0.5711444432181912,
          0.5071919897831672,
          0.5255337729418094,
          0.43251893615940296,
          0.5098401525122186,
          0.4447637973292876,
          0.5011410767068809,
          0.399254822579151,
          0.49309519568195687,
          0.518051083943882,
          0.5556062373051722,
          0.5618950119340616,
          0.5293298499765379,
          0.5632657267600377,
          0.5928954365458947,
          0.37480409762903827,
          0.4705418167901362,
          0.39378283482895493,
          0.4692440322926265,
          0.44445708660044675,
          0.5500033210711277,
          0.5274754427224858,
          0.4711752904663769,
          0.3965845724910922,
          0.5496051436926331,
          0.5897770734954504,
          0.49128329715027586,
          0.5236277970446623,
          0.5073462704246066,
          0.496721636770553,
          0.47355792171294425,
          0.5219558678152547,
          0.6073967556800736,
          0.45245393029130276,
          0.518318503507006,
          0.46495190033396205,
          0.5237395124851966,
          0.5066870313484262,
          0.48852435524141286,
          0.5691320881220391,
          0.542752765570068,
          0.5503878591782412,
          0.5169838640856937,
          0.5127652743495803,
          0.5483861402733139,
          0.3650503929353239,
          0.4093753775491499,
          0.4576363942437204,
          0.5777746258287162,
          0.5080946653746794,
          0.6011336095382208,
          0.5472948412475936,
          0.4664828276282499,
          0.4772970741632302,
          0.43588466269811327,
          0.4740325212230933,
          0.4712127895249281,
          0.5339297954619915,
          0.5307390243544523,
          0.6048133291713705,
          0.4918805319084644,
          0.4946148807524852,
          0.5680163648514374,
          0.5310307344372567,
          0.5439418718241704,
          0.5855718930515553,
          0.3851479012318036,
          0.47899088772542553,
          0.5558312724464557,
          0.5061544108314436,
          0.5099192625084067,
          0.568326417810299,
          0.4774583966570363,
          0.49672682870159796,
          0.4273467227127168,
          0.4678165722308247,
          0.43241876116376166,
          0.5023793009942806,
          0.5191363268159379,
          0.507447249095691,
          0.5466526030829104,
          0.5035912319103066,
          0.45382109531132686,
          0.44631597683868207,
          0.3722586848366269,
          0.4680853180982398,
          0.5356779383640544,
          0.5211136438573136,
          0.5056311340133707,
          0.4911536546423864,
          0.5037594134150876,
          0.5701100431955557,
          0.5241222844953756,
          0.49445296114105036,
          0.6995916972235167,
          0.5115307891942221,
          0.4760608223124284,
          0.5597416807754164,
          0.5038618754083662,
          0.42718552064393056,
          0.4447946418596917,
          0.47204681760486394,
          0.41923648954122167,
          0.5092859798212361,
          0.502547362919746,
          0.4460356223616802,
          0.5777659060230075,
          0.48605889416511194,
          0.5633078502779586,
          0.5454958041552607,
          0.5185687942859128,
          0.5472895019324878,
          0.5511883891362196,
          0.5289986328170266,
          0.38569180367387745,
          0.5294910431908714,
          0.528527426344004,
          0.4907694712466895,
          0.39319362715830514,
          0.5297809924621243,
          0.5092039573481253,
          0.41809680235209,
          0.4779240025626094,
          0.4356768405246773,
          0.5463802868340343,
          0.4874545966283657,
          0.47870702044220137,
          0.5675072595323849,
          0.5642801445610037,
          0.49907589590427,
          0.5469211179820682,
          0.6532789803817005,
          0.5049766351314549,
          0.46657678452802887,
          0.45698896781534876,
          0.5656418217586047,
          0.5294111601074483,
          0.5257906776665747,
          0.613918246673156,
          0.5460388233493478,
          0.5410207178167786,
          0.4794281138642534,
          0.5003611145540828,
          0.5447463241939182,
          0.5285076932610998,
          0.5236032650924101,
          0.5432204430108626,
          0.5776141038480397,
          0.4246272020535279,
          0.5123004782931024,
          0.4237407578201836,
          0.511628760419165,
          0.560266130869488,
          0.5750865700709321,
          0.520789030409341,
          0.5803569850538772,
          0.5156666978417366,
          0.5419548148671056,
          0.5032279745230902,
          0.5576697261512298,
          0.39028217664022297,
          0.5397900961273839,
          0.486272200547218,
          0.46102361590698854,
          0.5015175099735312,
          0.550971385219061,
          0.4864801367158829,
          0.47562237626368575,
          0.4212668412434606,
          0.5441246523906914,
          0.47661301432972,
          0.5561146260643984,
          0.5524019724104661,
          0.46822534112903647,
          0.5057805816165143,
          0.5299032760259955,
          0.5364972445836552,
          0.4577677423787521,
          0.48616481410720225,
          0.4996513982973353,
          0.47534971547754357,
          0.46211469963063184,
          0.4762557610593499,
          0.3138652271558388,
          0.5185064943089772,
          0.546184627622491,
          0.40879488744082393,
          0.4720700622339105,
          0.5137706596053389,
          0.4480469725478968,
          0.609168714595641,
          0.48395996164451505,
          0.43475754077683604,
          0.40226906267221463,
          0.5020929395345826,
          0.4335936341069107,
          0.4892468359227208,
          0.424437293585688,
          0.5875951131171689,
          0.5021006701022874,
          0.49280531286214807,
          0.5498627088291624,
          0.5257250723759311,
          0.5514639604987251,
          0.43723248333143433,
          0.4851980118006463,
          0.5381184202964563,
          0.5699072682303583,
          0.5444381719809862,
          0.4362971289223325,
          0.52266732519664,
          0.543056391526953,
          0.5113902250893174,
          0.5490538599839051,
          0.5388739372507161,
          0.56196602307857,
          0.46839065934088675,
          0.42056856384554253,
          0.5207213598199855,
          0.5091462740910314,
          0.4873279749712707,
          0.47443687232001364,
          0.5757061429549332,
          0.5011643312764147,
          0.5094620440071845,
          0.4401275713475636,
          0.4563730698651403,
          0.5317203569453027,
          0.43651636997480847,
          0.4527454166826446,
          0.555387929414653,
          0.48732013367084864,
          0.4127474069131918,
          0.4812528609172467,
          0.5080717006979768,
          0.5283394536420007,
          0.5337146836600126,
          0.6066020755708402,
          0.4793392312575674,
          0.5179148583859033,
          0.5577590410948289,
          0.4418616129646112,
          0.46582363334830357,
          0.5124443133729754,
          0.5644793900853814,
          0.5097402248357641,
          0.530082483435981,
          0.48557328919925724,
          0.42831095879858727,
          0.44076209561333407,
          0.5382726750128436,
          0.4075502285248488,
          0.5094275256995561,
          0.5165217044438266,
          0.5248040274613897,
          0.6188057405266715,
          0.5159820195099729,
          0.5031875650870784,
          0.5302677209707576,
          0.39697639437824034,
          0.49691716612217257,
          0.40206444485155546,
          0.5279745654975407,
          0.46502764337814945,
          0.4379756797611434,
          0.49782602327970915,
          0.42162980254970195,
          0.5407349259162681,
          0.4464088206395317,
          0.44987867819403476,
          0.5493495105186059,
          0.5358172954929572,
          0.4903761872687516,
          0.49513779252408985,
          0.5101970344307889,
          0.48815141709329446,
          0.4670575061455454,
          0.5164145548304387,
          0.4492535603812331,
          0.5791262598860882,
          0.48518403026694434,
          0.583640550953394,
          0.4918534034462675,
          0.4700140714042886,
          0.4634293860654827,
          0.4943654310008561,
          0.4411630618916853,
          0.466815466858974,
          0.45366745730354,
          0.5077348367460234,
          0.5087560014519342,
          0.5040201222922118,
          0.5806194443134779,
          0.507521317325017,
          0.5088640187281553,
          0.4887059627394779,
          0.5616467196793108,
          0.5223125550533392,
          0.5400922506248691,
          0.48061423903962686,
          0.4876422244893672,
          0.4620577508270463,
          0.4769178312898258,
          0.4607856549545629,
          0.4869739597421657,
          0.44730997256207905,
          0.47474776500679233,
          0.5662603377627332,
          0.4135723841922309,
          0.6308236090822177,
          0.5153877456609881,
          0.4246222379250298,
          0.4660606602127023,
          0.5348000402110817,
          0.5473272779992356,
          0.4746716845072333,
          0.5433424763190836,
          0.4957897427214868,
          0.5724092857664053,
          0.49000044624453054,
          0.4698297025559891,
          0.5231766965920907,
          0.5337356327875726,
          0.5335270326603309,
          0.4853965723953069,
          0.5726188421295382,
          0.4374035371018848,
          0.5305961366226571,
          0.47302351160144523,
          0.5789694217853182,
          0.49699085229252815,
          0.4948761521138619,
          0.5222759228019405,
          0.5203565655229865,
          0.4589130072103299,
          0.40345965254764243,
          0.43697104812759513,
          0.5407142895746094,
          0.5318176762727729,
          0.5273585881151952,
          0.49846225634609004,
          0.5494083808103841,
          0.5212446353985064,
          0.529868853765713,
          0.5004361191746082,
          0.5247504827067044,
          0.33752970414032546,
          0.5723674631375525,
          0.5319142701018656,
          0.4213790820183792,
          0.5826906911133903,
          0.4900763120935776,
          0.461462963712781,
          0.5539324042852604,
          0.5611024769706985,
          0.5440116978861647,
          0.5743384337416464,
          0.43176490434629794,
          0.5680411413791336,
          0.47983045976909655,
          0.5012695044582831,
          0.4827845947085614,
          0.4597065357619744,
          0.4582515585330672,
          0.4607269786075319,
          0.5119729591580807,
          0.38774547885249855,
          0.4367238097546787,
          0.4654466492901323,
          0.4529267537550444,
          0.47358571396743765,
          0.5294592926868634,
          0.5101312994208358,
          0.4308721501202584,
          0.5239148461912291,
          0.5201780822777557,
          0.5200333351576316,
          0.42030761824607904,
          0.4893278885854274,
          0.5041666636625511,
          0.5899154080318831,
          0.5726901588871935,
          0.44997939465572095,
          0.4774010048443701,
          0.5011527147799872,
          0.49722852435751025,
          0.3989025745808195,
          0.542341344301769,
          0.5580104701694983,
          0.5433626739791423,
          0.4511510668269854,
          0.5502412941323239,
          0.5812033258402453,
          0.5142289180396439,
          0.5416026272057377,
          0.537869407777817,
          0.5284181630378344,
          0.4898175692865543,
          0.5958910181931888,
          0.48146191759950496,
          0.5584820333638857,
          0.45746847962277953,
          0.49452727863790075,
          0.5020285319184198,
          0.6434274130274613,
          0.42384549121619747,
          0.531292072405452,
          0.422959534617391,
          0.568039956394062,
          0.516111684450904,
          0.5423752010481231,
          0.5672515658013855,
          0.5855435358228013,
          0.5003324852537234,
          0.6055429558760322,
          0.5429953004973601,
          0.5085843372811093,
          0.47203801545956225,
          0.461359678046387,
          0.5561311170106266,
          0.472236295169416,
          0.4807915869404983,
          0.48155575633752407,
          0.4434644326684825,
          0.5588648262163582,
          0.4981595241747402,
          0.43760395753685166,
          0.4895800514076523,
          0.5863761071653455,
          0.5347619283051428,
          0.5333670939905965,
          0.49368269792566655,
          0.48639093857617804,
          0.5113589845304232,
          0.4248643620812979,
          0.4977319384298934,
          0.5026851527543882,
          0.5153516361130052,
          0.392758574719101,
          0.5708987565178376,
          0.5590612391178421,
          0.5560203284337984,
          0.5645546872517118,
          0.5132769749608668,
          0.4818564542329187,
          0.5098229538685047,
          0.4491552559295664,
          0.4677094192117027,
          0.5906907361904753,
          0.5710317276166543,
          0.5537302404894513,
          0.4932012137499508,
          0.6278104589288328,
          0.5561504348779805,
          0.5599736670903744,
          0.5311924656854634,
          0.5638261985542584,
          0.4334485961166689,
          0.5043692999552344,
          0.44441027179719034,
          0.5839386322498648,
          0.550186435237787,
          0.474040027172152,
          0.44354267532796077,
          0.5702512356994627,
          0.47068971476113763,
          0.47589626297803067,
          0.5636908311422516,
          0.5535599682000936,
          0.4807293294819351,
          0.5428805130299035,
          0.47311623385639434,
          0.5473485113471112,
          0.5023933934493842,
          0.4494721641847445,
          0.43214468595425237,
          0.5345505661473229,
          0.4859716731374512,
          0.44761068267959514,
          0.4583213590471703,
          0.5183436134256065,
          0.4670469313914926,
          0.43065134167518193,
          0.5405525426643104,
          0.46198755799092095,
          0.5163165824558006,
          0.42391802388056793,
          0.45569239591528715,
          0.4918695306083802,
          0.42182924178585524,
          0.47278047377144244,
          0.5469368249889761,
          0.5259708788308719,
          0.3759118706584756,
          0.4288305517079087,
          0.49799085117627734,
          0.4770908520866111,
          0.40148032255747823,
          0.5022955479729755,
          0.46788628361233675,
          0.5139182402307825,
          0.39958484809420747,
          0.5454361229037658,
          0.5173430652349279,
          0.40607244348491434,
          0.47987569365940846,
          0.5446139022819847,
          0.4449864025901247,
          0.586655069738002,
          0.4335633329810677,
          0.5340515380783708,
          0.44477355384491674,
          0.5127359443897768,
          0.3854976122870942,
          0.5119035648394381,
          0.5624157339150186,
          0.5418350592351063,
          0.5259240718358552,
          0.5580236969086931,
          0.5082575258247964,
          0.5294471997830225,
          0.5752723984493422,
          0.41040937045111214,
          0.4798685443718511,
          0.46949573007244305,
          0.4785971710417259,
          0.4891186707816884,
          0.5001674953411653,
          0.5334352325892345,
          0.5443054924613585,
          0.5127319941930707,
          0.4837361639693206,
          0.5118696835784193,
          0.43056824420829515,
          0.4892826145591145,
          0.5198304215879214,
          0.4843294671844317,
          0.4935488441713996,
          0.3904906034103185,
          0.5933034329742582,
          0.400824978471271,
          0.4778035690002906,
          0.5409531478646259,
          0.5940757848072957,
          0.5152182713588541,
          0.5355392896480218,
          0.4334146417123733,
          0.5280651553387555,
          0.5276843190641544,
          0.5219782082097989,
          0.4499160436316228,
          0.5044473530664823,
          0.46891233807114757,
          0.4674809302784112,
          0.5746049807316261,
          0.44149070641102217,
          0.4774034074232046,
          0.4487341108736972,
          0.4751766805860321,
          0.5749236856907651,
          0.511146432836167,
          0.48085525930561296,
          0.3931385078909751,
          0.41987838597849064,
          0.5272980432619252,
          0.40900689189981554,
          0.5235946334311382,
          0.41649454258525287,
          0.46167842206057796,
          0.50658883129271,
          0.5409825622503955,
          0.4570289162812238,
          0.5188816044089575,
          0.4906845942627971,
          0.5417405659135989,
          0.41842148602367685,
          0.5317036622638822,
          0.5145958273153662,
          0.40341797160262544,
          0.4553858557133604,
          0.5303031017506711,
          0.5701066492412772,
          0.4700054165077446,
          0.3336299511061714,
          0.43156042637134706,
          0.469989837671907,
          0.4627798055573403,
          0.49666804956572613,
          0.5582490552397539,
          0.44270680593288864,
          0.46269470560403714,
          0.4875621205679133,
          0.4608486716352585,
          0.5359248518555353,
          0.4287568763574189,
          0.5171870713469735,
          0.5237985049346591,
          0.461468531044795,
          0.43814787477995343,
          0.44395443893481323,
          0.594412249504625,
          0.5018121075995287,
          0.4911544019672222,
          0.5024946085798471,
          0.460161910303969,
          0.5434215689104689,
          0.5467016522409706,
          0.5011057827538621,
          0.5505347660731321,
          0.569650921960175,
          0.499566390591642,
          0.5083859605069937,
          0.4597264026274812,
          0.47747254352922786,
          0.3820052585478052,
          0.46818576889855235,
          0.460047876891626,
          0.5137401669294204,
          0.4860104787860476,
          0.5114210020635745,
          0.4838532166191502,
          0.5525042433992142,
          0.4731390988219391,
          0.496595284757878,
          0.5512933873052683,
          0.480585422504705,
          0.49573454127100797,
          0.3790018627414568,
          0.4339836210859818,
          0.5965857035825538,
          0.5301224634795483,
          0.5643825025412751,
          0.40350882830451484,
          0.47238996775785747,
          0.5586744348507955,
          0.5115228818632279,
          0.5834350198762565,
          0.540526817938781,
          0.45284377977850326,
          0.4544642689702361,
          0.5191252652534857,
          0.4665372691802837,
          0.5315937579749994,
          0.5141864957232852,
          0.434862608911826,
          0.5016462182114136,
          0.42200294933523663,
          0.5703767063854192,
          0.4878199889253419,
          0.5659073668507328,
          0.4634915107259445,
          0.48230582301682745,
          0.49526950376278817,
          0.4683467494301869,
          0.5251257016147657,
          0.5929322316041197,
          0.5249316734190711,
          0.4568867758925471,
          0.44037905772022967,
          0.4738042300895861,
          0.5415152457802211,
          0.45590373079533314,
          0.5188306755523062,
          0.45794238466323584,
          0.5396646126027013,
          0.4805568225759694,
          0.5662906161194762,
          0.4980301169334712,
          0.5690898454449304,
          0.4613343700789322,
          0.5428201230296542,
          0.49292413619104386,
          0.5280570266489099,
          0.45866710274192507,
          0.5226381607483055,
          0.5377603049321874,
          0.5299322541395244,
          0.40645706750279115,
          0.5140958021498823,
          0.5387078103073694,
          0.4880259366292847,
          0.49148941564536075,
          0.43828314012592057,
          0.5152712697286771,
          0.4285969190228816,
          0.5906869338839917,
          0.49645308211244654,
          0.5131038459197128,
          0.543129556253424,
          0.5344172478123436,
          0.49160192582629053,
          0.5237029885849439,
          0.5841321128720011,
          0.46345679413666657,
          0.5064770778618698,
          0.4598680471837615,
          0.5942804887409698,
          0.5735132312248922,
          0.4237574003337906,
          0.500846872921385,
          0.5009764354804442,
          0.44228977220523347,
          0.48647929381810634,
          0.5003166358334008,
          0.43544527549568296,
          0.5547223764641187,
          0.4182785408576963,
          0.493041974249369,
          0.5315993028251014,
          0.5651342502532584,
          0.4210558548763416,
          0.5726839615116662,
          0.48219602852738,
          0.5007024312010409,
          0.5078097987599313,
          0.5191615074439176,
          0.4545957018995228,
          0.5322239679054901,
          0.4667435852275923,
          0.4547153051579037,
          0.5963295270985006,
          0.5394199280621037,
          0.5792756441798758,
          0.5734359018992147,
          0.48480687383153165,
          0.5122127832469249,
          0.5285659732479641,
          0.5254404462514969,
          0.46337393406227995,
          0.5205967912439553,
          0.48118938754296764,
          0.45319634076588344,
          0.5319293738189399,
          0.5043671089139453,
          0.4845297704379743,
          0.5094570372716658,
          0.38501997863821935,
          0.4646369311330463,
          0.5505317421472583,
          0.5516448814190253,
          0.5350409007271725,
          0.5055488327104286,
          0.5325476847306586,
          0.5314938385080173,
          0.48663865064513956,
          0.5465726009451256,
          0.4759304989033241,
          0.42760564636601855,
          0.558036877056556,
          0.43988158726531185,
          0.4306174783306777,
          0.527180708041135,
          0.5007694996870835,
          0.49231894000878784,
          0.47251180733060766,
          0.474859972209973,
          0.5366139145811816,
          0.5476755226107756,
          0.5092004130326534,
          0.486574893466316,
          0.5141828860361942,
          0.46580520980006446,
          0.4876440659161385,
          0.49389157862099053,
          0.5222506923075284,
          0.5236054635123201,
          0.5402902128894443,
          0.5825597424333819,
          0.497973471978391,
          0.5702745276023069,
          0.43353292976173086,
          0.509370942595591,
          0.41491950575919817,
          0.48695542636768496,
          0.4249007460044008,
          0.5493181176715639,
          0.46985848705809413,
          0.5292696450419679,
          0.5749282906287632,
          0.4410549057948129,
          0.4946581833124952,
          0.5557358146584508,
          0.5348560656401034,
          0.5420468095714555,
          0.5161497748129186,
          0.4573607349450771,
          0.4899104667790803,
          0.5232188277844894,
          0.42992917255011975,
          0.5995656150355136,
          0.39526664567675757,
          0.5004400219887996,
          0.483600602871947,
          0.5249201656163014,
          0.442812738724411,
          0.46644207420244893,
          0.5137028872868626,
          0.49298089511125676,
          0.4415385997837972,
          0.5293383270190837,
          0.4922533179423528,
          0.4846198285302141,
          0.47352280901171395,
          0.4696850575262469,
          0.5562565002474248,
          0.5164178208821762,
          0.49357476285523344,
          0.5787935061987596,
          0.45815126060940464,
          0.5026535977681136,
          0.4676280284354701,
          0.5242110128158188,
          0.47986704659875834,
          0.452944770576936,
          0.5037689966002683,
          0.48465388087068245,
          0.44460612516957765,
          0.5501100238426022,
          0.5475118833395121,
          0.4908909305802624,
          0.5766743384446308,
          0.4628012311157896,
          0.46144794321118593,
          0.531182138069485,
          0.5892010694348543,
          0.4892689669623657,
          0.4622187409661975,
          0.49575740105880917,
          0.44739058493382783,
          0.518957267826617,
          0.5384173125665577,
          0.4333023131322216,
          0.42991581754399266,
          0.4415927826997334,
          0.5160464618537584,
          0.3829302576896935,
          0.4705420838987439,
          0.4690201181207965,
          0.5346675397545814,
          0.4708105843595587,
          0.4777654648925641,
          0.35852731121169396,
          0.4762721909082058,
          0.47980117700490327,
          0.5206882976429253,
          0.4944889887557197,
          0.5487717247621517,
          0.4868880976196872,
          0.5176574813273676,
          0.42274942042350827,
          0.47444237307844694,
          0.5308332280383173,
          0.430511279857128,
          0.41239378555437406,
          0.4652186479080083,
          0.44491378500654066,
          0.45245094042819284,
          0.5948760602014644,
          0.4790705072421277,
          0.49380194834114044,
          0.5230025280380056,
          0.5292573580116566,
          0.4918269270554581,
          0.4498508635814582,
          0.5109442389801114,
          0.39247844511201385,
          0.42212757802075096,
          0.5218954569366254,
          0.4699408921133591,
          0.44782532011192694,
          0.4535706307351455,
          0.4504147832996805,
          0.518197304833369,
          0.6020879209999626,
          0.5682844710878237,
          0.5363695522687204,
          0.4798026176167228,
          0.5244402698220363,
          0.42235951466819116,
          0.5037599660789182,
          0.553153008511911,
          0.5175730180188092,
          0.45239203346198137,
          0.5376712538501883,
          0.5356535947808683,
          0.4952622766515763,
          0.5326775712902854,
          0.4902824234107363,
          0.5298358741205793,
          0.4774682611695839,
          0.42747745163199835,
          0.5475538461433986,
          0.46267702787503306,
          0.4058874010380724,
          0.5489864791831713,
          0.4025258660328413,
          0.4769342952211525,
          0.49342445169360716,
          0.48888903973891695,
          0.4923779053008405,
          0.46024200831027956,
          0.44669940215767096,
          0.4488378196943185,
          0.5979346749046413,
          0.5889783034932826,
          0.5118829766977854,
          0.43554242106635593,
          0.47753172001097405,
          0.37962122706919205,
          0.4497091916993976,
          0.5442831819989375,
          0.48397097957866364,
          0.6189334522838223,
          0.6041734757096534,
          0.501316665977937,
          0.4249567411148619,
          0.520504949936832,
          0.5053840668245108,
          0.4928080991502953,
          0.4452789829454152,
          0.44875764730909223,
          0.566320739832235,
          0.5623776012385534,
          0.4675189064387655,
          0.5382557071487695,
          0.5304389803039332,
          0.41630940425080654,
          0.48340965055209284,
          0.5653439227618715,
          0.5146225501259717,
          0.5605282303355864,
          0.5708571346526008,
          0.5027610363033029,
          0.46254412162417763,
          0.4978693128026416,
          0.5568339491597274,
          0.4934293021405608,
          0.5531353250274286,
          0.5191834321727646,
          0.5012793196883054,
          0.5011766170241572,
          0.5215052831047854,
          0.45633632593322254,
          0.5144385181523942,
          0.5630920464271132,
          0.5321587993354211,
          0.503922868333099,
          0.5438263832488314,
          0.539346540326599,
          0.5130477197927824,
          0.46214250459887957,
          0.5195816829381635,
          0.4410219498768517,
          0.5286269063135689,
          0.5095549453499362,
          0.3792869837869135,
          0.42586035515284587,
          0.5208010604936314,
          0.4696758387822726,
          0.46183866987932726,
          0.5014015268634534,
          0.4685509630110415,
          0.5517058862135669,
          0.5479364483628374,
          0.5391949723712844,
          0.48088208708380953,
          0.541695283569836,
          0.4940259242794028,
          0.499025041239254,
          0.5905392875066061,
          0.5607241709105963,
          0.393428040983032,
          0.5191243482218556,
          0.576460805795424,
          0.4953498568924077
         ],
         "xaxis": "x",
         "y": [
          1,
          1,
          1,
          1,
          1,
          1,
          1,
          1,
          1,
          1,
          1,
          1,
          1,
          1,
          1,
          1,
          1,
          1,
          1,
          1,
          1,
          1,
          1,
          1,
          1,
          1,
          1,
          1,
          1,
          1,
          1,
          1,
          1,
          1,
          1,
          1,
          1,
          1,
          1,
          1,
          1,
          1,
          1,
          1,
          1,
          1,
          1,
          1,
          1,
          1,
          1,
          1,
          1,
          1,
          1,
          1,
          1,
          1,
          1,
          1,
          1,
          1,
          1,
          1,
          1,
          1,
          1,
          1,
          1,
          1,
          1,
          1,
          1,
          1,
          1,
          1,
          1,
          1,
          1,
          1,
          1,
          1,
          1,
          1,
          1,
          1,
          1,
          1,
          1,
          1,
          1,
          1,
          1,
          1,
          1,
          1,
          1,
          1,
          1,
          1,
          1,
          1,
          1,
          1,
          1,
          1,
          1,
          1,
          1,
          1,
          1,
          1,
          1,
          1,
          1,
          1,
          1,
          1,
          1,
          1,
          1,
          1,
          1,
          1,
          1,
          1,
          1,
          1,
          1,
          1,
          1,
          1,
          1,
          1,
          1,
          1,
          1,
          1,
          1,
          1,
          1,
          1,
          1,
          1,
          1,
          1,
          1,
          1,
          1,
          1,
          1,
          1,
          1,
          1,
          1,
          1,
          1,
          1,
          1,
          1,
          1,
          1,
          1,
          1,
          1,
          1,
          1,
          1,
          1,
          1,
          1,
          1,
          1,
          1,
          1,
          1,
          1,
          1,
          1,
          1,
          1,
          1,
          1,
          1,
          1,
          1,
          1,
          1,
          1,
          1,
          1,
          1,
          1,
          1,
          1,
          1,
          1,
          1,
          1,
          1,
          1,
          1,
          1,
          1,
          1,
          1,
          1,
          1,
          1,
          1,
          1,
          1,
          1,
          1,
          1,
          1,
          1,
          1,
          1,
          1,
          1,
          1,
          1,
          1,
          1,
          1,
          1,
          1,
          1,
          1,
          1,
          1,
          1,
          1,
          1,
          1,
          1,
          1,
          1,
          1,
          1,
          1,
          1,
          1,
          1,
          1,
          1,
          1,
          1,
          1,
          1,
          1,
          1,
          1,
          1,
          1,
          1,
          1,
          1,
          1,
          1,
          1,
          1,
          1,
          1,
          1,
          1,
          1,
          1,
          1,
          1,
          1,
          1,
          1,
          1,
          1,
          1,
          1,
          1,
          1,
          1,
          1,
          1,
          1,
          1,
          1,
          1,
          1,
          1,
          1,
          1,
          1,
          1,
          1,
          1,
          1,
          1,
          1,
          1,
          1,
          1,
          1,
          1,
          1,
          1,
          1,
          1,
          1,
          1,
          1,
          1,
          1,
          1,
          1,
          1,
          1,
          1,
          1,
          1,
          1,
          1,
          1,
          1,
          1,
          1,
          1,
          1,
          1,
          1,
          1,
          1,
          1,
          1,
          1,
          1,
          1,
          1,
          1,
          1,
          1,
          1,
          1,
          1,
          1,
          1,
          1,
          1,
          1,
          1,
          1,
          1,
          1,
          1,
          1,
          1,
          1,
          1,
          1,
          1,
          1,
          1,
          1,
          1,
          1,
          1,
          1,
          1,
          1,
          1,
          1,
          1,
          1,
          1,
          1,
          1,
          1,
          1,
          1,
          1,
          1,
          1,
          1,
          1,
          1,
          1,
          1,
          1,
          1,
          1,
          1,
          1,
          1,
          1,
          1,
          1,
          1,
          1,
          1,
          1,
          1,
          1,
          1,
          1,
          1,
          1,
          1,
          1,
          1,
          1,
          1,
          1,
          1,
          1,
          1,
          1,
          1,
          1,
          1,
          1,
          1,
          1,
          1,
          1,
          1,
          1,
          1,
          1,
          1,
          1,
          1,
          1,
          1,
          1,
          1,
          1,
          1,
          1,
          1,
          1,
          1,
          1,
          1,
          1,
          1,
          1,
          1,
          1,
          1,
          1,
          1,
          1,
          1,
          1,
          1,
          1,
          1,
          1,
          1,
          1,
          1,
          1,
          1,
          1,
          1,
          1,
          1,
          1,
          1,
          1,
          1,
          1,
          1,
          1,
          1,
          1,
          1,
          1,
          1,
          1,
          1,
          1,
          1,
          1,
          1,
          1,
          1,
          1,
          1,
          1,
          1,
          1,
          1,
          1,
          1,
          1,
          1,
          1,
          1,
          1,
          1,
          1,
          1,
          1,
          1,
          1,
          1,
          1,
          1,
          1,
          1,
          1,
          1,
          1,
          1,
          1,
          1,
          1,
          1,
          1,
          1,
          1,
          1,
          1,
          1,
          1,
          1,
          1,
          1,
          1,
          1,
          1,
          1,
          1,
          1,
          1,
          1,
          1,
          1,
          1,
          1,
          1,
          1,
          1,
          1,
          1,
          1,
          1,
          1,
          1,
          1,
          1,
          1,
          1,
          1,
          1,
          1,
          1,
          1,
          1,
          1,
          1,
          1,
          1,
          1,
          1,
          1,
          1,
          1,
          1,
          1,
          1,
          1,
          1,
          1,
          1,
          1,
          1,
          1,
          1,
          1,
          1,
          1,
          1,
          1,
          1,
          1,
          1,
          1,
          1,
          1,
          1,
          1,
          1,
          1,
          1,
          1,
          1,
          1,
          1,
          1,
          1,
          1,
          1,
          1,
          1,
          1,
          1,
          1,
          1,
          1,
          1,
          1,
          1,
          1,
          1,
          1,
          1,
          1,
          1,
          1,
          1,
          1,
          1,
          1,
          1,
          1,
          1,
          1,
          1,
          1,
          1,
          1,
          1,
          1,
          1,
          1,
          1,
          1,
          1,
          1,
          1,
          1,
          1,
          1,
          1,
          1,
          1,
          1,
          1,
          1,
          1,
          1,
          1,
          1,
          1,
          1,
          1,
          1,
          1,
          1,
          1,
          1,
          1,
          1,
          1,
          1,
          1,
          1,
          1,
          1,
          1,
          1,
          1,
          1,
          1,
          1,
          1,
          1,
          1,
          1,
          1,
          1,
          1,
          1,
          1,
          1,
          1,
          1,
          1,
          1,
          1,
          1,
          1,
          1,
          1,
          1,
          1,
          1,
          1,
          1,
          1,
          1,
          1,
          1,
          1,
          1,
          1,
          1,
          1,
          1,
          1,
          1,
          1,
          1,
          1,
          1,
          1,
          1,
          1,
          1,
          1,
          1,
          1,
          1,
          1,
          1,
          1,
          1,
          1,
          1,
          1,
          1,
          1,
          1,
          1,
          1,
          1,
          1,
          1,
          1,
          1,
          1,
          1,
          1,
          1,
          1,
          1,
          1,
          1,
          1,
          1,
          1,
          1,
          1,
          1,
          1,
          1,
          1,
          1,
          1,
          1,
          1,
          1,
          1,
          1,
          1,
          1,
          1,
          1,
          1,
          1,
          1,
          1,
          1,
          1,
          1,
          1,
          1,
          1,
          1,
          1,
          1,
          1,
          1,
          1,
          1,
          1,
          1,
          1,
          1,
          1,
          1,
          1,
          1,
          1,
          1,
          1,
          1,
          1,
          1,
          1,
          1,
          1,
          1,
          1,
          1,
          1,
          1,
          1,
          1,
          1,
          1,
          1,
          1,
          1,
          1,
          1,
          1,
          1,
          1,
          1,
          1,
          1,
          1,
          1,
          1,
          1,
          1,
          1,
          1,
          1,
          1,
          1,
          1,
          1,
          1,
          1,
          1,
          1,
          1,
          1,
          1,
          1,
          1,
          1,
          1,
          1,
          1,
          1,
          1,
          1,
          1,
          1,
          1,
          1,
          1,
          1,
          1,
          1,
          1,
          1,
          1,
          1,
          1,
          1,
          1,
          1,
          1,
          1,
          1,
          1,
          1,
          1,
          1,
          1,
          1,
          1,
          1,
          1,
          1,
          1,
          1,
          1,
          1,
          1,
          1,
          1,
          1,
          1,
          1,
          1,
          1,
          1,
          1,
          1,
          1,
          1,
          1,
          1,
          1,
          1,
          1,
          1,
          1,
          1,
          1,
          1,
          1,
          1,
          1,
          1,
          1,
          1,
          1,
          1,
          1,
          1,
          1,
          1,
          1,
          1,
          1,
          1,
          1,
          1,
          1,
          1,
          1,
          1,
          1,
          1,
          1,
          1,
          1,
          1,
          1,
          1,
          1,
          1,
          1,
          1,
          1,
          1,
          1,
          1,
          1,
          1,
          1,
          1,
          1,
          1,
          1,
          1,
          1,
          1,
          1,
          1,
          1,
          1,
          1,
          1,
          1,
          1,
          1,
          1,
          1,
          1,
          1,
          1,
          1,
          1,
          1,
          1,
          1,
          1,
          1,
          1,
          1,
          1,
          1,
          1,
          1,
          1,
          1,
          1,
          1,
          1,
          1,
          1,
          1,
          1,
          1,
          1,
          1,
          1,
          1,
          1,
          1,
          1,
          1
         ],
         "yaxis": "y"
        }
       ],
       "layout": {
        "barmode": "relative",
        "legend": {
         "tracegroupgap": 0
        },
        "margin": {
         "t": 60
        },
        "template": {
         "data": {
          "bar": [
           {
            "error_x": {
             "color": "#2a3f5f"
            },
            "error_y": {
             "color": "#2a3f5f"
            },
            "marker": {
             "line": {
              "color": "#E5ECF6",
              "width": 0.5
             },
             "pattern": {
              "fillmode": "overlay",
              "size": 10,
              "solidity": 0.2
             }
            },
            "type": "bar"
           }
          ],
          "barpolar": [
           {
            "marker": {
             "line": {
              "color": "#E5ECF6",
              "width": 0.5
             },
             "pattern": {
              "fillmode": "overlay",
              "size": 10,
              "solidity": 0.2
             }
            },
            "type": "barpolar"
           }
          ],
          "carpet": [
           {
            "aaxis": {
             "endlinecolor": "#2a3f5f",
             "gridcolor": "white",
             "linecolor": "white",
             "minorgridcolor": "white",
             "startlinecolor": "#2a3f5f"
            },
            "baxis": {
             "endlinecolor": "#2a3f5f",
             "gridcolor": "white",
             "linecolor": "white",
             "minorgridcolor": "white",
             "startlinecolor": "#2a3f5f"
            },
            "type": "carpet"
           }
          ],
          "choropleth": [
           {
            "colorbar": {
             "outlinewidth": 0,
             "ticks": ""
            },
            "type": "choropleth"
           }
          ],
          "contour": [
           {
            "colorbar": {
             "outlinewidth": 0,
             "ticks": ""
            },
            "colorscale": [
             [
              0,
              "#0d0887"
             ],
             [
              0.1111111111111111,
              "#46039f"
             ],
             [
              0.2222222222222222,
              "#7201a8"
             ],
             [
              0.3333333333333333,
              "#9c179e"
             ],
             [
              0.4444444444444444,
              "#bd3786"
             ],
             [
              0.5555555555555556,
              "#d8576b"
             ],
             [
              0.6666666666666666,
              "#ed7953"
             ],
             [
              0.7777777777777778,
              "#fb9f3a"
             ],
             [
              0.8888888888888888,
              "#fdca26"
             ],
             [
              1,
              "#f0f921"
             ]
            ],
            "type": "contour"
           }
          ],
          "contourcarpet": [
           {
            "colorbar": {
             "outlinewidth": 0,
             "ticks": ""
            },
            "type": "contourcarpet"
           }
          ],
          "heatmap": [
           {
            "colorbar": {
             "outlinewidth": 0,
             "ticks": ""
            },
            "colorscale": [
             [
              0,
              "#0d0887"
             ],
             [
              0.1111111111111111,
              "#46039f"
             ],
             [
              0.2222222222222222,
              "#7201a8"
             ],
             [
              0.3333333333333333,
              "#9c179e"
             ],
             [
              0.4444444444444444,
              "#bd3786"
             ],
             [
              0.5555555555555556,
              "#d8576b"
             ],
             [
              0.6666666666666666,
              "#ed7953"
             ],
             [
              0.7777777777777778,
              "#fb9f3a"
             ],
             [
              0.8888888888888888,
              "#fdca26"
             ],
             [
              1,
              "#f0f921"
             ]
            ],
            "type": "heatmap"
           }
          ],
          "heatmapgl": [
           {
            "colorbar": {
             "outlinewidth": 0,
             "ticks": ""
            },
            "colorscale": [
             [
              0,
              "#0d0887"
             ],
             [
              0.1111111111111111,
              "#46039f"
             ],
             [
              0.2222222222222222,
              "#7201a8"
             ],
             [
              0.3333333333333333,
              "#9c179e"
             ],
             [
              0.4444444444444444,
              "#bd3786"
             ],
             [
              0.5555555555555556,
              "#d8576b"
             ],
             [
              0.6666666666666666,
              "#ed7953"
             ],
             [
              0.7777777777777778,
              "#fb9f3a"
             ],
             [
              0.8888888888888888,
              "#fdca26"
             ],
             [
              1,
              "#f0f921"
             ]
            ],
            "type": "heatmapgl"
           }
          ],
          "histogram": [
           {
            "marker": {
             "pattern": {
              "fillmode": "overlay",
              "size": 10,
              "solidity": 0.2
             }
            },
            "type": "histogram"
           }
          ],
          "histogram2d": [
           {
            "colorbar": {
             "outlinewidth": 0,
             "ticks": ""
            },
            "colorscale": [
             [
              0,
              "#0d0887"
             ],
             [
              0.1111111111111111,
              "#46039f"
             ],
             [
              0.2222222222222222,
              "#7201a8"
             ],
             [
              0.3333333333333333,
              "#9c179e"
             ],
             [
              0.4444444444444444,
              "#bd3786"
             ],
             [
              0.5555555555555556,
              "#d8576b"
             ],
             [
              0.6666666666666666,
              "#ed7953"
             ],
             [
              0.7777777777777778,
              "#fb9f3a"
             ],
             [
              0.8888888888888888,
              "#fdca26"
             ],
             [
              1,
              "#f0f921"
             ]
            ],
            "type": "histogram2d"
           }
          ],
          "histogram2dcontour": [
           {
            "colorbar": {
             "outlinewidth": 0,
             "ticks": ""
            },
            "colorscale": [
             [
              0,
              "#0d0887"
             ],
             [
              0.1111111111111111,
              "#46039f"
             ],
             [
              0.2222222222222222,
              "#7201a8"
             ],
             [
              0.3333333333333333,
              "#9c179e"
             ],
             [
              0.4444444444444444,
              "#bd3786"
             ],
             [
              0.5555555555555556,
              "#d8576b"
             ],
             [
              0.6666666666666666,
              "#ed7953"
             ],
             [
              0.7777777777777778,
              "#fb9f3a"
             ],
             [
              0.8888888888888888,
              "#fdca26"
             ],
             [
              1,
              "#f0f921"
             ]
            ],
            "type": "histogram2dcontour"
           }
          ],
          "mesh3d": [
           {
            "colorbar": {
             "outlinewidth": 0,
             "ticks": ""
            },
            "type": "mesh3d"
           }
          ],
          "parcoords": [
           {
            "line": {
             "colorbar": {
              "outlinewidth": 0,
              "ticks": ""
             }
            },
            "type": "parcoords"
           }
          ],
          "pie": [
           {
            "automargin": true,
            "type": "pie"
           }
          ],
          "scatter": [
           {
            "fillpattern": {
             "fillmode": "overlay",
             "size": 10,
             "solidity": 0.2
            },
            "type": "scatter"
           }
          ],
          "scatter3d": [
           {
            "line": {
             "colorbar": {
              "outlinewidth": 0,
              "ticks": ""
             }
            },
            "marker": {
             "colorbar": {
              "outlinewidth": 0,
              "ticks": ""
             }
            },
            "type": "scatter3d"
           }
          ],
          "scattercarpet": [
           {
            "marker": {
             "colorbar": {
              "outlinewidth": 0,
              "ticks": ""
             }
            },
            "type": "scattercarpet"
           }
          ],
          "scattergeo": [
           {
            "marker": {
             "colorbar": {
              "outlinewidth": 0,
              "ticks": ""
             }
            },
            "type": "scattergeo"
           }
          ],
          "scattergl": [
           {
            "marker": {
             "colorbar": {
              "outlinewidth": 0,
              "ticks": ""
             }
            },
            "type": "scattergl"
           }
          ],
          "scattermapbox": [
           {
            "marker": {
             "colorbar": {
              "outlinewidth": 0,
              "ticks": ""
             }
            },
            "type": "scattermapbox"
           }
          ],
          "scatterpolar": [
           {
            "marker": {
             "colorbar": {
              "outlinewidth": 0,
              "ticks": ""
             }
            },
            "type": "scatterpolar"
           }
          ],
          "scatterpolargl": [
           {
            "marker": {
             "colorbar": {
              "outlinewidth": 0,
              "ticks": ""
             }
            },
            "type": "scatterpolargl"
           }
          ],
          "scatterternary": [
           {
            "marker": {
             "colorbar": {
              "outlinewidth": 0,
              "ticks": ""
             }
            },
            "type": "scatterternary"
           }
          ],
          "surface": [
           {
            "colorbar": {
             "outlinewidth": 0,
             "ticks": ""
            },
            "colorscale": [
             [
              0,
              "#0d0887"
             ],
             [
              0.1111111111111111,
              "#46039f"
             ],
             [
              0.2222222222222222,
              "#7201a8"
             ],
             [
              0.3333333333333333,
              "#9c179e"
             ],
             [
              0.4444444444444444,
              "#bd3786"
             ],
             [
              0.5555555555555556,
              "#d8576b"
             ],
             [
              0.6666666666666666,
              "#ed7953"
             ],
             [
              0.7777777777777778,
              "#fb9f3a"
             ],
             [
              0.8888888888888888,
              "#fdca26"
             ],
             [
              1,
              "#f0f921"
             ]
            ],
            "type": "surface"
           }
          ],
          "table": [
           {
            "cells": {
             "fill": {
              "color": "#EBF0F8"
             },
             "line": {
              "color": "white"
             }
            },
            "header": {
             "fill": {
              "color": "#C8D4E3"
             },
             "line": {
              "color": "white"
             }
            },
            "type": "table"
           }
          ]
         },
         "layout": {
          "annotationdefaults": {
           "arrowcolor": "#2a3f5f",
           "arrowhead": 0,
           "arrowwidth": 1
          },
          "autotypenumbers": "strict",
          "coloraxis": {
           "colorbar": {
            "outlinewidth": 0,
            "ticks": ""
           }
          },
          "colorscale": {
           "diverging": [
            [
             0,
             "#8e0152"
            ],
            [
             0.1,
             "#c51b7d"
            ],
            [
             0.2,
             "#de77ae"
            ],
            [
             0.3,
             "#f1b6da"
            ],
            [
             0.4,
             "#fde0ef"
            ],
            [
             0.5,
             "#f7f7f7"
            ],
            [
             0.6,
             "#e6f5d0"
            ],
            [
             0.7,
             "#b8e186"
            ],
            [
             0.8,
             "#7fbc41"
            ],
            [
             0.9,
             "#4d9221"
            ],
            [
             1,
             "#276419"
            ]
           ],
           "sequential": [
            [
             0,
             "#0d0887"
            ],
            [
             0.1111111111111111,
             "#46039f"
            ],
            [
             0.2222222222222222,
             "#7201a8"
            ],
            [
             0.3333333333333333,
             "#9c179e"
            ],
            [
             0.4444444444444444,
             "#bd3786"
            ],
            [
             0.5555555555555556,
             "#d8576b"
            ],
            [
             0.6666666666666666,
             "#ed7953"
            ],
            [
             0.7777777777777778,
             "#fb9f3a"
            ],
            [
             0.8888888888888888,
             "#fdca26"
            ],
            [
             1,
             "#f0f921"
            ]
           ],
           "sequentialminus": [
            [
             0,
             "#0d0887"
            ],
            [
             0.1111111111111111,
             "#46039f"
            ],
            [
             0.2222222222222222,
             "#7201a8"
            ],
            [
             0.3333333333333333,
             "#9c179e"
            ],
            [
             0.4444444444444444,
             "#bd3786"
            ],
            [
             0.5555555555555556,
             "#d8576b"
            ],
            [
             0.6666666666666666,
             "#ed7953"
            ],
            [
             0.7777777777777778,
             "#fb9f3a"
            ],
            [
             0.8888888888888888,
             "#fdca26"
            ],
            [
             1,
             "#f0f921"
            ]
           ]
          },
          "colorway": [
           "#636efa",
           "#EF553B",
           "#00cc96",
           "#ab63fa",
           "#FFA15A",
           "#19d3f3",
           "#FF6692",
           "#B6E880",
           "#FF97FF",
           "#FECB52"
          ],
          "font": {
           "color": "#2a3f5f"
          },
          "geo": {
           "bgcolor": "white",
           "lakecolor": "white",
           "landcolor": "#E5ECF6",
           "showlakes": true,
           "showland": true,
           "subunitcolor": "white"
          },
          "hoverlabel": {
           "align": "left"
          },
          "hovermode": "closest",
          "mapbox": {
           "style": "light"
          },
          "paper_bgcolor": "white",
          "plot_bgcolor": "#E5ECF6",
          "polar": {
           "angularaxis": {
            "gridcolor": "white",
            "linecolor": "white",
            "ticks": ""
           },
           "bgcolor": "#E5ECF6",
           "radialaxis": {
            "gridcolor": "white",
            "linecolor": "white",
            "ticks": ""
           }
          },
          "scene": {
           "xaxis": {
            "backgroundcolor": "#E5ECF6",
            "gridcolor": "white",
            "gridwidth": 2,
            "linecolor": "white",
            "showbackground": true,
            "ticks": "",
            "zerolinecolor": "white"
           },
           "yaxis": {
            "backgroundcolor": "#E5ECF6",
            "gridcolor": "white",
            "gridwidth": 2,
            "linecolor": "white",
            "showbackground": true,
            "ticks": "",
            "zerolinecolor": "white"
           },
           "zaxis": {
            "backgroundcolor": "#E5ECF6",
            "gridcolor": "white",
            "gridwidth": 2,
            "linecolor": "white",
            "showbackground": true,
            "ticks": "",
            "zerolinecolor": "white"
           }
          },
          "shapedefaults": {
           "line": {
            "color": "#2a3f5f"
           }
          },
          "ternary": {
           "aaxis": {
            "gridcolor": "white",
            "linecolor": "white",
            "ticks": ""
           },
           "baxis": {
            "gridcolor": "white",
            "linecolor": "white",
            "ticks": ""
           },
           "bgcolor": "#E5ECF6",
           "caxis": {
            "gridcolor": "white",
            "linecolor": "white",
            "ticks": ""
           }
          },
          "title": {
           "x": 0.05
          },
          "xaxis": {
           "automargin": true,
           "gridcolor": "white",
           "linecolor": "white",
           "ticks": "",
           "title": {
            "standoff": 15
           },
           "zerolinecolor": "white",
           "zerolinewidth": 2
          },
          "yaxis": {
           "automargin": true,
           "gridcolor": "white",
           "linecolor": "white",
           "ticks": "",
           "title": {
            "standoff": 15
           },
           "zerolinecolor": "white",
           "zerolinewidth": 2
          }
         }
        },
        "xaxis": {
         "anchor": "y",
         "domain": [
          0,
          1
         ],
         "title": {
          "text": "x"
         }
        },
        "yaxis": {
         "anchor": "x",
         "domain": [
          0,
          1
         ],
         "title": {
          "text": "sum of y"
         }
        }
       }
      },
      "text/html": [
       "<div>                            <div id=\"ebf7ce63-823e-475a-b624-66f2b5036dca\" class=\"plotly-graph-div\" style=\"height:525px; width:100%;\"></div>            <script type=\"text/javascript\">                require([\"plotly\"], function(Plotly) {                    window.PLOTLYENV=window.PLOTLYENV || {};                                    if (document.getElementById(\"ebf7ce63-823e-475a-b624-66f2b5036dca\")) {                    Plotly.newPlot(                        \"ebf7ce63-823e-475a-b624-66f2b5036dca\",                        [{\"alignmentgroup\":\"True\",\"bingroup\":\"x\",\"histfunc\":\"sum\",\"hovertemplate\":\"x=%{x}<br>sum of y=%{y}<extra></extra>\",\"legendgroup\":\"\",\"marker\":{\"color\":\"#636efa\",\"pattern\":{\"shape\":\"\"}},\"name\":\"\",\"nbinsx\":20,\"offsetgroup\":\"\",\"orientation\":\"v\",\"showlegend\":false,\"x\":[0.5242069544653596,0.45189883780813106,0.5865900806814293,0.49963450771545864,0.6104955520285661,0.5570080786207067,0.512054988965414,0.4660483073477987,0.443720504093632,0.5309519056919032,0.3650720394618247,0.4379965333059492,0.41463477260215187,0.43576077415930475,0.5168426482752209,0.4721404045823936,0.568976004713715,0.5687106961835916,0.5295339959552846,0.5065726242811768,0.5256711218131902,0.46907902695676457,0.5701845852912623,0.5353872102664675,0.43127399973824626,0.5711444432181912,0.5071919897831672,0.5255337729418094,0.43251893615940296,0.5098401525122186,0.4447637973292876,0.5011410767068809,0.399254822579151,0.49309519568195687,0.518051083943882,0.5556062373051722,0.5618950119340616,0.5293298499765379,0.5632657267600377,0.5928954365458947,0.37480409762903827,0.4705418167901362,0.39378283482895493,0.4692440322926265,0.44445708660044675,0.5500033210711277,0.5274754427224858,0.4711752904663769,0.3965845724910922,0.5496051436926331,0.5897770734954504,0.49128329715027586,0.5236277970446623,0.5073462704246066,0.496721636770553,0.47355792171294425,0.5219558678152547,0.6073967556800736,0.45245393029130276,0.518318503507006,0.46495190033396205,0.5237395124851966,0.5066870313484262,0.48852435524141286,0.5691320881220391,0.542752765570068,0.5503878591782412,0.5169838640856937,0.5127652743495803,0.5483861402733139,0.3650503929353239,0.4093753775491499,0.4576363942437204,0.5777746258287162,0.5080946653746794,0.6011336095382208,0.5472948412475936,0.4664828276282499,0.4772970741632302,0.43588466269811327,0.4740325212230933,0.4712127895249281,0.5339297954619915,0.5307390243544523,0.6048133291713705,0.4918805319084644,0.4946148807524852,0.5680163648514374,0.5310307344372567,0.5439418718241704,0.5855718930515553,0.3851479012318036,0.47899088772542553,0.5558312724464557,0.5061544108314436,0.5099192625084067,0.568326417810299,0.4774583966570363,0.49672682870159796,0.4273467227127168,0.4678165722308247,0.43241876116376166,0.5023793009942806,0.5191363268159379,0.507447249095691,0.5466526030829104,0.5035912319103066,0.45382109531132686,0.44631597683868207,0.3722586848366269,0.4680853180982398,0.5356779383640544,0.5211136438573136,0.5056311340133707,0.4911536546423864,0.5037594134150876,0.5701100431955557,0.5241222844953756,0.49445296114105036,0.6995916972235167,0.5115307891942221,0.4760608223124284,0.5597416807754164,0.5038618754083662,0.42718552064393056,0.4447946418596917,0.47204681760486394,0.41923648954122167,0.5092859798212361,0.502547362919746,0.4460356223616802,0.5777659060230075,0.48605889416511194,0.5633078502779586,0.5454958041552607,0.5185687942859128,0.5472895019324878,0.5511883891362196,0.5289986328170266,0.38569180367387745,0.5294910431908714,0.528527426344004,0.4907694712466895,0.39319362715830514,0.5297809924621243,0.5092039573481253,0.41809680235209,0.4779240025626094,0.4356768405246773,0.5463802868340343,0.4874545966283657,0.47870702044220137,0.5675072595323849,0.5642801445610037,0.49907589590427,0.5469211179820682,0.6532789803817005,0.5049766351314549,0.46657678452802887,0.45698896781534876,0.5656418217586047,0.5294111601074483,0.5257906776665747,0.613918246673156,0.5460388233493478,0.5410207178167786,0.4794281138642534,0.5003611145540828,0.5447463241939182,0.5285076932610998,0.5236032650924101,0.5432204430108626,0.5776141038480397,0.4246272020535279,0.5123004782931024,0.4237407578201836,0.511628760419165,0.560266130869488,0.5750865700709321,0.520789030409341,0.5803569850538772,0.5156666978417366,0.5419548148671056,0.5032279745230902,0.5576697261512298,0.39028217664022297,0.5397900961273839,0.486272200547218,0.46102361590698854,0.5015175099735312,0.550971385219061,0.4864801367158829,0.47562237626368575,0.4212668412434606,0.5441246523906914,0.47661301432972,0.5561146260643984,0.5524019724104661,0.46822534112903647,0.5057805816165143,0.5299032760259955,0.5364972445836552,0.4577677423787521,0.48616481410720225,0.4996513982973353,0.47534971547754357,0.46211469963063184,0.4762557610593499,0.3138652271558388,0.5185064943089772,0.546184627622491,0.40879488744082393,0.4720700622339105,0.5137706596053389,0.4480469725478968,0.609168714595641,0.48395996164451505,0.43475754077683604,0.40226906267221463,0.5020929395345826,0.4335936341069107,0.4892468359227208,0.424437293585688,0.5875951131171689,0.5021006701022874,0.49280531286214807,0.5498627088291624,0.5257250723759311,0.5514639604987251,0.43723248333143433,0.4851980118006463,0.5381184202964563,0.5699072682303583,0.5444381719809862,0.4362971289223325,0.52266732519664,0.543056391526953,0.5113902250893174,0.5490538599839051,0.5388739372507161,0.56196602307857,0.46839065934088675,0.42056856384554253,0.5207213598199855,0.5091462740910314,0.4873279749712707,0.47443687232001364,0.5757061429549332,0.5011643312764147,0.5094620440071845,0.4401275713475636,0.4563730698651403,0.5317203569453027,0.43651636997480847,0.4527454166826446,0.555387929414653,0.48732013367084864,0.4127474069131918,0.4812528609172467,0.5080717006979768,0.5283394536420007,0.5337146836600126,0.6066020755708402,0.4793392312575674,0.5179148583859033,0.5577590410948289,0.4418616129646112,0.46582363334830357,0.5124443133729754,0.5644793900853814,0.5097402248357641,0.530082483435981,0.48557328919925724,0.42831095879858727,0.44076209561333407,0.5382726750128436,0.4075502285248488,0.5094275256995561,0.5165217044438266,0.5248040274613897,0.6188057405266715,0.5159820195099729,0.5031875650870784,0.5302677209707576,0.39697639437824034,0.49691716612217257,0.40206444485155546,0.5279745654975407,0.46502764337814945,0.4379756797611434,0.49782602327970915,0.42162980254970195,0.5407349259162681,0.4464088206395317,0.44987867819403476,0.5493495105186059,0.5358172954929572,0.4903761872687516,0.49513779252408985,0.5101970344307889,0.48815141709329446,0.4670575061455454,0.5164145548304387,0.4492535603812331,0.5791262598860882,0.48518403026694434,0.583640550953394,0.4918534034462675,0.4700140714042886,0.4634293860654827,0.4943654310008561,0.4411630618916853,0.466815466858974,0.45366745730354,0.5077348367460234,0.5087560014519342,0.5040201222922118,0.5806194443134779,0.507521317325017,0.5088640187281553,0.4887059627394779,0.5616467196793108,0.5223125550533392,0.5400922506248691,0.48061423903962686,0.4876422244893672,0.4620577508270463,0.4769178312898258,0.4607856549545629,0.4869739597421657,0.44730997256207905,0.47474776500679233,0.5662603377627332,0.4135723841922309,0.6308236090822177,0.5153877456609881,0.4246222379250298,0.4660606602127023,0.5348000402110817,0.5473272779992356,0.4746716845072333,0.5433424763190836,0.4957897427214868,0.5724092857664053,0.49000044624453054,0.4698297025559891,0.5231766965920907,0.5337356327875726,0.5335270326603309,0.4853965723953069,0.5726188421295382,0.4374035371018848,0.5305961366226571,0.47302351160144523,0.5789694217853182,0.49699085229252815,0.4948761521138619,0.5222759228019405,0.5203565655229865,0.4589130072103299,0.40345965254764243,0.43697104812759513,0.5407142895746094,0.5318176762727729,0.5273585881151952,0.49846225634609004,0.5494083808103841,0.5212446353985064,0.529868853765713,0.5004361191746082,0.5247504827067044,0.33752970414032546,0.5723674631375525,0.5319142701018656,0.4213790820183792,0.5826906911133903,0.4900763120935776,0.461462963712781,0.5539324042852604,0.5611024769706985,0.5440116978861647,0.5743384337416464,0.43176490434629794,0.5680411413791336,0.47983045976909655,0.5012695044582831,0.4827845947085614,0.4597065357619744,0.4582515585330672,0.4607269786075319,0.5119729591580807,0.38774547885249855,0.4367238097546787,0.4654466492901323,0.4529267537550444,0.47358571396743765,0.5294592926868634,0.5101312994208358,0.4308721501202584,0.5239148461912291,0.5201780822777557,0.5200333351576316,0.42030761824607904,0.4893278885854274,0.5041666636625511,0.5899154080318831,0.5726901588871935,0.44997939465572095,0.4774010048443701,0.5011527147799872,0.49722852435751025,0.3989025745808195,0.542341344301769,0.5580104701694983,0.5433626739791423,0.4511510668269854,0.5502412941323239,0.5812033258402453,0.5142289180396439,0.5416026272057377,0.537869407777817,0.5284181630378344,0.4898175692865543,0.5958910181931888,0.48146191759950496,0.5584820333638857,0.45746847962277953,0.49452727863790075,0.5020285319184198,0.6434274130274613,0.42384549121619747,0.531292072405452,0.422959534617391,0.568039956394062,0.516111684450904,0.5423752010481231,0.5672515658013855,0.5855435358228013,0.5003324852537234,0.6055429558760322,0.5429953004973601,0.5085843372811093,0.47203801545956225,0.461359678046387,0.5561311170106266,0.472236295169416,0.4807915869404983,0.48155575633752407,0.4434644326684825,0.5588648262163582,0.4981595241747402,0.43760395753685166,0.4895800514076523,0.5863761071653455,0.5347619283051428,0.5333670939905965,0.49368269792566655,0.48639093857617804,0.5113589845304232,0.4248643620812979,0.4977319384298934,0.5026851527543882,0.5153516361130052,0.392758574719101,0.5708987565178376,0.5590612391178421,0.5560203284337984,0.5645546872517118,0.5132769749608668,0.4818564542329187,0.5098229538685047,0.4491552559295664,0.4677094192117027,0.5906907361904753,0.5710317276166543,0.5537302404894513,0.4932012137499508,0.6278104589288328,0.5561504348779805,0.5599736670903744,0.5311924656854634,0.5638261985542584,0.4334485961166689,0.5043692999552344,0.44441027179719034,0.5839386322498648,0.550186435237787,0.474040027172152,0.44354267532796077,0.5702512356994627,0.47068971476113763,0.47589626297803067,0.5636908311422516,0.5535599682000936,0.4807293294819351,0.5428805130299035,0.47311623385639434,0.5473485113471112,0.5023933934493842,0.4494721641847445,0.43214468595425237,0.5345505661473229,0.4859716731374512,0.44761068267959514,0.4583213590471703,0.5183436134256065,0.4670469313914926,0.43065134167518193,0.5405525426643104,0.46198755799092095,0.5163165824558006,0.42391802388056793,0.45569239591528715,0.4918695306083802,0.42182924178585524,0.47278047377144244,0.5469368249889761,0.5259708788308719,0.3759118706584756,0.4288305517079087,0.49799085117627734,0.4770908520866111,0.40148032255747823,0.5022955479729755,0.46788628361233675,0.5139182402307825,0.39958484809420747,0.5454361229037658,0.5173430652349279,0.40607244348491434,0.47987569365940846,0.5446139022819847,0.4449864025901247,0.586655069738002,0.4335633329810677,0.5340515380783708,0.44477355384491674,0.5127359443897768,0.3854976122870942,0.5119035648394381,0.5624157339150186,0.5418350592351063,0.5259240718358552,0.5580236969086931,0.5082575258247964,0.5294471997830225,0.5752723984493422,0.41040937045111214,0.4798685443718511,0.46949573007244305,0.4785971710417259,0.4891186707816884,0.5001674953411653,0.5334352325892345,0.5443054924613585,0.5127319941930707,0.4837361639693206,0.5118696835784193,0.43056824420829515,0.4892826145591145,0.5198304215879214,0.4843294671844317,0.4935488441713996,0.3904906034103185,0.5933034329742582,0.400824978471271,0.4778035690002906,0.5409531478646259,0.5940757848072957,0.5152182713588541,0.5355392896480218,0.4334146417123733,0.5280651553387555,0.5276843190641544,0.5219782082097989,0.4499160436316228,0.5044473530664823,0.46891233807114757,0.4674809302784112,0.5746049807316261,0.44149070641102217,0.4774034074232046,0.4487341108736972,0.4751766805860321,0.5749236856907651,0.511146432836167,0.48085525930561296,0.3931385078909751,0.41987838597849064,0.5272980432619252,0.40900689189981554,0.5235946334311382,0.41649454258525287,0.46167842206057796,0.50658883129271,0.5409825622503955,0.4570289162812238,0.5188816044089575,0.4906845942627971,0.5417405659135989,0.41842148602367685,0.5317036622638822,0.5145958273153662,0.40341797160262544,0.4553858557133604,0.5303031017506711,0.5701066492412772,0.4700054165077446,0.3336299511061714,0.43156042637134706,0.469989837671907,0.4627798055573403,0.49666804956572613,0.5582490552397539,0.44270680593288864,0.46269470560403714,0.4875621205679133,0.4608486716352585,0.5359248518555353,0.4287568763574189,0.5171870713469735,0.5237985049346591,0.461468531044795,0.43814787477995343,0.44395443893481323,0.594412249504625,0.5018121075995287,0.4911544019672222,0.5024946085798471,0.460161910303969,0.5434215689104689,0.5467016522409706,0.5011057827538621,0.5505347660731321,0.569650921960175,0.499566390591642,0.5083859605069937,0.4597264026274812,0.47747254352922786,0.3820052585478052,0.46818576889855235,0.460047876891626,0.5137401669294204,0.4860104787860476,0.5114210020635745,0.4838532166191502,0.5525042433992142,0.4731390988219391,0.496595284757878,0.5512933873052683,0.480585422504705,0.49573454127100797,0.3790018627414568,0.4339836210859818,0.5965857035825538,0.5301224634795483,0.5643825025412751,0.40350882830451484,0.47238996775785747,0.5586744348507955,0.5115228818632279,0.5834350198762565,0.540526817938781,0.45284377977850326,0.4544642689702361,0.5191252652534857,0.4665372691802837,0.5315937579749994,0.5141864957232852,0.434862608911826,0.5016462182114136,0.42200294933523663,0.5703767063854192,0.4878199889253419,0.5659073668507328,0.4634915107259445,0.48230582301682745,0.49526950376278817,0.4683467494301869,0.5251257016147657,0.5929322316041197,0.5249316734190711,0.4568867758925471,0.44037905772022967,0.4738042300895861,0.5415152457802211,0.45590373079533314,0.5188306755523062,0.45794238466323584,0.5396646126027013,0.4805568225759694,0.5662906161194762,0.4980301169334712,0.5690898454449304,0.4613343700789322,0.5428201230296542,0.49292413619104386,0.5280570266489099,0.45866710274192507,0.5226381607483055,0.5377603049321874,0.5299322541395244,0.40645706750279115,0.5140958021498823,0.5387078103073694,0.4880259366292847,0.49148941564536075,0.43828314012592057,0.5152712697286771,0.4285969190228816,0.5906869338839917,0.49645308211244654,0.5131038459197128,0.543129556253424,0.5344172478123436,0.49160192582629053,0.5237029885849439,0.5841321128720011,0.46345679413666657,0.5064770778618698,0.4598680471837615,0.5942804887409698,0.5735132312248922,0.4237574003337906,0.500846872921385,0.5009764354804442,0.44228977220523347,0.48647929381810634,0.5003166358334008,0.43544527549568296,0.5547223764641187,0.4182785408576963,0.493041974249369,0.5315993028251014,0.5651342502532584,0.4210558548763416,0.5726839615116662,0.48219602852738,0.5007024312010409,0.5078097987599313,0.5191615074439176,0.4545957018995228,0.5322239679054901,0.4667435852275923,0.4547153051579037,0.5963295270985006,0.5394199280621037,0.5792756441798758,0.5734359018992147,0.48480687383153165,0.5122127832469249,0.5285659732479641,0.5254404462514969,0.46337393406227995,0.5205967912439553,0.48118938754296764,0.45319634076588344,0.5319293738189399,0.5043671089139453,0.4845297704379743,0.5094570372716658,0.38501997863821935,0.4646369311330463,0.5505317421472583,0.5516448814190253,0.5350409007271725,0.5055488327104286,0.5325476847306586,0.5314938385080173,0.48663865064513956,0.5465726009451256,0.4759304989033241,0.42760564636601855,0.558036877056556,0.43988158726531185,0.4306174783306777,0.527180708041135,0.5007694996870835,0.49231894000878784,0.47251180733060766,0.474859972209973,0.5366139145811816,0.5476755226107756,0.5092004130326534,0.486574893466316,0.5141828860361942,0.46580520980006446,0.4876440659161385,0.49389157862099053,0.5222506923075284,0.5236054635123201,0.5402902128894443,0.5825597424333819,0.497973471978391,0.5702745276023069,0.43353292976173086,0.509370942595591,0.41491950575919817,0.48695542636768496,0.4249007460044008,0.5493181176715639,0.46985848705809413,0.5292696450419679,0.5749282906287632,0.4410549057948129,0.4946581833124952,0.5557358146584508,0.5348560656401034,0.5420468095714555,0.5161497748129186,0.4573607349450771,0.4899104667790803,0.5232188277844894,0.42992917255011975,0.5995656150355136,0.39526664567675757,0.5004400219887996,0.483600602871947,0.5249201656163014,0.442812738724411,0.46644207420244893,0.5137028872868626,0.49298089511125676,0.4415385997837972,0.5293383270190837,0.4922533179423528,0.4846198285302141,0.47352280901171395,0.4696850575262469,0.5562565002474248,0.5164178208821762,0.49357476285523344,0.5787935061987596,0.45815126060940464,0.5026535977681136,0.4676280284354701,0.5242110128158188,0.47986704659875834,0.452944770576936,0.5037689966002683,0.48465388087068245,0.44460612516957765,0.5501100238426022,0.5475118833395121,0.4908909305802624,0.5766743384446308,0.4628012311157896,0.46144794321118593,0.531182138069485,0.5892010694348543,0.4892689669623657,0.4622187409661975,0.49575740105880917,0.44739058493382783,0.518957267826617,0.5384173125665577,0.4333023131322216,0.42991581754399266,0.4415927826997334,0.5160464618537584,0.3829302576896935,0.4705420838987439,0.4690201181207965,0.5346675397545814,0.4708105843595587,0.4777654648925641,0.35852731121169396,0.4762721909082058,0.47980117700490327,0.5206882976429253,0.4944889887557197,0.5487717247621517,0.4868880976196872,0.5176574813273676,0.42274942042350827,0.47444237307844694,0.5308332280383173,0.430511279857128,0.41239378555437406,0.4652186479080083,0.44491378500654066,0.45245094042819284,0.5948760602014644,0.4790705072421277,0.49380194834114044,0.5230025280380056,0.5292573580116566,0.4918269270554581,0.4498508635814582,0.5109442389801114,0.39247844511201385,0.42212757802075096,0.5218954569366254,0.4699408921133591,0.44782532011192694,0.4535706307351455,0.4504147832996805,0.518197304833369,0.6020879209999626,0.5682844710878237,0.5363695522687204,0.4798026176167228,0.5244402698220363,0.42235951466819116,0.5037599660789182,0.553153008511911,0.5175730180188092,0.45239203346198137,0.5376712538501883,0.5356535947808683,0.4952622766515763,0.5326775712902854,0.4902824234107363,0.5298358741205793,0.4774682611695839,0.42747745163199835,0.5475538461433986,0.46267702787503306,0.4058874010380724,0.5489864791831713,0.4025258660328413,0.4769342952211525,0.49342445169360716,0.48888903973891695,0.4923779053008405,0.46024200831027956,0.44669940215767096,0.4488378196943185,0.5979346749046413,0.5889783034932826,0.5118829766977854,0.43554242106635593,0.47753172001097405,0.37962122706919205,0.4497091916993976,0.5442831819989375,0.48397097957866364,0.6189334522838223,0.6041734757096534,0.501316665977937,0.4249567411148619,0.520504949936832,0.5053840668245108,0.4928080991502953,0.4452789829454152,0.44875764730909223,0.566320739832235,0.5623776012385534,0.4675189064387655,0.5382557071487695,0.5304389803039332,0.41630940425080654,0.48340965055209284,0.5653439227618715,0.5146225501259717,0.5605282303355864,0.5708571346526008,0.5027610363033029,0.46254412162417763,0.4978693128026416,0.5568339491597274,0.4934293021405608,0.5531353250274286,0.5191834321727646,0.5012793196883054,0.5011766170241572,0.5215052831047854,0.45633632593322254,0.5144385181523942,0.5630920464271132,0.5321587993354211,0.503922868333099,0.5438263832488314,0.539346540326599,0.5130477197927824,0.46214250459887957,0.5195816829381635,0.4410219498768517,0.5286269063135689,0.5095549453499362,0.3792869837869135,0.42586035515284587,0.5208010604936314,0.4696758387822726,0.46183866987932726,0.5014015268634534,0.4685509630110415,0.5517058862135669,0.5479364483628374,0.5391949723712844,0.48088208708380953,0.541695283569836,0.4940259242794028,0.499025041239254,0.5905392875066061,0.5607241709105963,0.393428040983032,0.5191243482218556,0.576460805795424,0.4953498568924077],\"xaxis\":\"x\",\"y\":[1,1,1,1,1,1,1,1,1,1,1,1,1,1,1,1,1,1,1,1,1,1,1,1,1,1,1,1,1,1,1,1,1,1,1,1,1,1,1,1,1,1,1,1,1,1,1,1,1,1,1,1,1,1,1,1,1,1,1,1,1,1,1,1,1,1,1,1,1,1,1,1,1,1,1,1,1,1,1,1,1,1,1,1,1,1,1,1,1,1,1,1,1,1,1,1,1,1,1,1,1,1,1,1,1,1,1,1,1,1,1,1,1,1,1,1,1,1,1,1,1,1,1,1,1,1,1,1,1,1,1,1,1,1,1,1,1,1,1,1,1,1,1,1,1,1,1,1,1,1,1,1,1,1,1,1,1,1,1,1,1,1,1,1,1,1,1,1,1,1,1,1,1,1,1,1,1,1,1,1,1,1,1,1,1,1,1,1,1,1,1,1,1,1,1,1,1,1,1,1,1,1,1,1,1,1,1,1,1,1,1,1,1,1,1,1,1,1,1,1,1,1,1,1,1,1,1,1,1,1,1,1,1,1,1,1,1,1,1,1,1,1,1,1,1,1,1,1,1,1,1,1,1,1,1,1,1,1,1,1,1,1,1,1,1,1,1,1,1,1,1,1,1,1,1,1,1,1,1,1,1,1,1,1,1,1,1,1,1,1,1,1,1,1,1,1,1,1,1,1,1,1,1,1,1,1,1,1,1,1,1,1,1,1,1,1,1,1,1,1,1,1,1,1,1,1,1,1,1,1,1,1,1,1,1,1,1,1,1,1,1,1,1,1,1,1,1,1,1,1,1,1,1,1,1,1,1,1,1,1,1,1,1,1,1,1,1,1,1,1,1,1,1,1,1,1,1,1,1,1,1,1,1,1,1,1,1,1,1,1,1,1,1,1,1,1,1,1,1,1,1,1,1,1,1,1,1,1,1,1,1,1,1,1,1,1,1,1,1,1,1,1,1,1,1,1,1,1,1,1,1,1,1,1,1,1,1,1,1,1,1,1,1,1,1,1,1,1,1,1,1,1,1,1,1,1,1,1,1,1,1,1,1,1,1,1,1,1,1,1,1,1,1,1,1,1,1,1,1,1,1,1,1,1,1,1,1,1,1,1,1,1,1,1,1,1,1,1,1,1,1,1,1,1,1,1,1,1,1,1,1,1,1,1,1,1,1,1,1,1,1,1,1,1,1,1,1,1,1,1,1,1,1,1,1,1,1,1,1,1,1,1,1,1,1,1,1,1,1,1,1,1,1,1,1,1,1,1,1,1,1,1,1,1,1,1,1,1,1,1,1,1,1,1,1,1,1,1,1,1,1,1,1,1,1,1,1,1,1,1,1,1,1,1,1,1,1,1,1,1,1,1,1,1,1,1,1,1,1,1,1,1,1,1,1,1,1,1,1,1,1,1,1,1,1,1,1,1,1,1,1,1,1,1,1,1,1,1,1,1,1,1,1,1,1,1,1,1,1,1,1,1,1,1,1,1,1,1,1,1,1,1,1,1,1,1,1,1,1,1,1,1,1,1,1,1,1,1,1,1,1,1,1,1,1,1,1,1,1,1,1,1,1,1,1,1,1,1,1,1,1,1,1,1,1,1,1,1,1,1,1,1,1,1,1,1,1,1,1,1,1,1,1,1,1,1,1,1,1,1,1,1,1,1,1,1,1,1,1,1,1,1,1,1,1,1,1,1,1,1,1,1,1,1,1,1,1,1,1,1,1,1,1,1,1,1,1,1,1,1,1,1,1,1,1,1,1,1,1,1,1,1,1,1,1,1,1,1,1,1,1,1,1,1,1,1,1,1,1,1,1,1,1,1,1,1,1,1,1,1,1,1,1,1,1,1,1,1,1,1,1,1,1,1,1,1,1,1,1,1,1,1,1,1,1,1,1,1,1,1,1,1,1,1,1,1,1,1,1,1,1,1,1,1,1,1,1,1,1,1,1,1,1,1,1,1,1,1,1,1,1,1,1,1,1,1,1,1,1,1,1,1,1,1,1,1,1,1,1,1,1,1,1,1,1,1,1,1,1,1,1,1,1,1,1,1,1,1,1,1,1,1,1,1,1,1,1,1,1,1,1,1,1,1,1,1,1,1,1,1,1,1,1,1,1,1,1,1,1,1,1,1,1,1,1,1,1,1,1,1,1,1,1,1,1,1,1,1,1,1,1,1,1,1,1,1,1,1,1,1,1,1,1,1,1,1,1,1,1,1,1,1,1,1,1,1,1,1,1,1,1,1,1,1,1,1,1,1,1,1],\"yaxis\":\"y\",\"type\":\"histogram\"}],                        {\"template\":{\"data\":{\"histogram2dcontour\":[{\"type\":\"histogram2dcontour\",\"colorbar\":{\"outlinewidth\":0,\"ticks\":\"\"},\"colorscale\":[[0.0,\"#0d0887\"],[0.1111111111111111,\"#46039f\"],[0.2222222222222222,\"#7201a8\"],[0.3333333333333333,\"#9c179e\"],[0.4444444444444444,\"#bd3786\"],[0.5555555555555556,\"#d8576b\"],[0.6666666666666666,\"#ed7953\"],[0.7777777777777778,\"#fb9f3a\"],[0.8888888888888888,\"#fdca26\"],[1.0,\"#f0f921\"]]}],\"choropleth\":[{\"type\":\"choropleth\",\"colorbar\":{\"outlinewidth\":0,\"ticks\":\"\"}}],\"histogram2d\":[{\"type\":\"histogram2d\",\"colorbar\":{\"outlinewidth\":0,\"ticks\":\"\"},\"colorscale\":[[0.0,\"#0d0887\"],[0.1111111111111111,\"#46039f\"],[0.2222222222222222,\"#7201a8\"],[0.3333333333333333,\"#9c179e\"],[0.4444444444444444,\"#bd3786\"],[0.5555555555555556,\"#d8576b\"],[0.6666666666666666,\"#ed7953\"],[0.7777777777777778,\"#fb9f3a\"],[0.8888888888888888,\"#fdca26\"],[1.0,\"#f0f921\"]]}],\"heatmap\":[{\"type\":\"heatmap\",\"colorbar\":{\"outlinewidth\":0,\"ticks\":\"\"},\"colorscale\":[[0.0,\"#0d0887\"],[0.1111111111111111,\"#46039f\"],[0.2222222222222222,\"#7201a8\"],[0.3333333333333333,\"#9c179e\"],[0.4444444444444444,\"#bd3786\"],[0.5555555555555556,\"#d8576b\"],[0.6666666666666666,\"#ed7953\"],[0.7777777777777778,\"#fb9f3a\"],[0.8888888888888888,\"#fdca26\"],[1.0,\"#f0f921\"]]}],\"heatmapgl\":[{\"type\":\"heatmapgl\",\"colorbar\":{\"outlinewidth\":0,\"ticks\":\"\"},\"colorscale\":[[0.0,\"#0d0887\"],[0.1111111111111111,\"#46039f\"],[0.2222222222222222,\"#7201a8\"],[0.3333333333333333,\"#9c179e\"],[0.4444444444444444,\"#bd3786\"],[0.5555555555555556,\"#d8576b\"],[0.6666666666666666,\"#ed7953\"],[0.7777777777777778,\"#fb9f3a\"],[0.8888888888888888,\"#fdca26\"],[1.0,\"#f0f921\"]]}],\"contourcarpet\":[{\"type\":\"contourcarpet\",\"colorbar\":{\"outlinewidth\":0,\"ticks\":\"\"}}],\"contour\":[{\"type\":\"contour\",\"colorbar\":{\"outlinewidth\":0,\"ticks\":\"\"},\"colorscale\":[[0.0,\"#0d0887\"],[0.1111111111111111,\"#46039f\"],[0.2222222222222222,\"#7201a8\"],[0.3333333333333333,\"#9c179e\"],[0.4444444444444444,\"#bd3786\"],[0.5555555555555556,\"#d8576b\"],[0.6666666666666666,\"#ed7953\"],[0.7777777777777778,\"#fb9f3a\"],[0.8888888888888888,\"#fdca26\"],[1.0,\"#f0f921\"]]}],\"surface\":[{\"type\":\"surface\",\"colorbar\":{\"outlinewidth\":0,\"ticks\":\"\"},\"colorscale\":[[0.0,\"#0d0887\"],[0.1111111111111111,\"#46039f\"],[0.2222222222222222,\"#7201a8\"],[0.3333333333333333,\"#9c179e\"],[0.4444444444444444,\"#bd3786\"],[0.5555555555555556,\"#d8576b\"],[0.6666666666666666,\"#ed7953\"],[0.7777777777777778,\"#fb9f3a\"],[0.8888888888888888,\"#fdca26\"],[1.0,\"#f0f921\"]]}],\"mesh3d\":[{\"type\":\"mesh3d\",\"colorbar\":{\"outlinewidth\":0,\"ticks\":\"\"}}],\"scatter\":[{\"fillpattern\":{\"fillmode\":\"overlay\",\"size\":10,\"solidity\":0.2},\"type\":\"scatter\"}],\"parcoords\":[{\"type\":\"parcoords\",\"line\":{\"colorbar\":{\"outlinewidth\":0,\"ticks\":\"\"}}}],\"scatterpolargl\":[{\"type\":\"scatterpolargl\",\"marker\":{\"colorbar\":{\"outlinewidth\":0,\"ticks\":\"\"}}}],\"bar\":[{\"error_x\":{\"color\":\"#2a3f5f\"},\"error_y\":{\"color\":\"#2a3f5f\"},\"marker\":{\"line\":{\"color\":\"#E5ECF6\",\"width\":0.5},\"pattern\":{\"fillmode\":\"overlay\",\"size\":10,\"solidity\":0.2}},\"type\":\"bar\"}],\"scattergeo\":[{\"type\":\"scattergeo\",\"marker\":{\"colorbar\":{\"outlinewidth\":0,\"ticks\":\"\"}}}],\"scatterpolar\":[{\"type\":\"scatterpolar\",\"marker\":{\"colorbar\":{\"outlinewidth\":0,\"ticks\":\"\"}}}],\"histogram\":[{\"marker\":{\"pattern\":{\"fillmode\":\"overlay\",\"size\":10,\"solidity\":0.2}},\"type\":\"histogram\"}],\"scattergl\":[{\"type\":\"scattergl\",\"marker\":{\"colorbar\":{\"outlinewidth\":0,\"ticks\":\"\"}}}],\"scatter3d\":[{\"type\":\"scatter3d\",\"line\":{\"colorbar\":{\"outlinewidth\":0,\"ticks\":\"\"}},\"marker\":{\"colorbar\":{\"outlinewidth\":0,\"ticks\":\"\"}}}],\"scattermapbox\":[{\"type\":\"scattermapbox\",\"marker\":{\"colorbar\":{\"outlinewidth\":0,\"ticks\":\"\"}}}],\"scatterternary\":[{\"type\":\"scatterternary\",\"marker\":{\"colorbar\":{\"outlinewidth\":0,\"ticks\":\"\"}}}],\"scattercarpet\":[{\"type\":\"scattercarpet\",\"marker\":{\"colorbar\":{\"outlinewidth\":0,\"ticks\":\"\"}}}],\"carpet\":[{\"aaxis\":{\"endlinecolor\":\"#2a3f5f\",\"gridcolor\":\"white\",\"linecolor\":\"white\",\"minorgridcolor\":\"white\",\"startlinecolor\":\"#2a3f5f\"},\"baxis\":{\"endlinecolor\":\"#2a3f5f\",\"gridcolor\":\"white\",\"linecolor\":\"white\",\"minorgridcolor\":\"white\",\"startlinecolor\":\"#2a3f5f\"},\"type\":\"carpet\"}],\"table\":[{\"cells\":{\"fill\":{\"color\":\"#EBF0F8\"},\"line\":{\"color\":\"white\"}},\"header\":{\"fill\":{\"color\":\"#C8D4E3\"},\"line\":{\"color\":\"white\"}},\"type\":\"table\"}],\"barpolar\":[{\"marker\":{\"line\":{\"color\":\"#E5ECF6\",\"width\":0.5},\"pattern\":{\"fillmode\":\"overlay\",\"size\":10,\"solidity\":0.2}},\"type\":\"barpolar\"}],\"pie\":[{\"automargin\":true,\"type\":\"pie\"}]},\"layout\":{\"autotypenumbers\":\"strict\",\"colorway\":[\"#636efa\",\"#EF553B\",\"#00cc96\",\"#ab63fa\",\"#FFA15A\",\"#19d3f3\",\"#FF6692\",\"#B6E880\",\"#FF97FF\",\"#FECB52\"],\"font\":{\"color\":\"#2a3f5f\"},\"hovermode\":\"closest\",\"hoverlabel\":{\"align\":\"left\"},\"paper_bgcolor\":\"white\",\"plot_bgcolor\":\"#E5ECF6\",\"polar\":{\"bgcolor\":\"#E5ECF6\",\"angularaxis\":{\"gridcolor\":\"white\",\"linecolor\":\"white\",\"ticks\":\"\"},\"radialaxis\":{\"gridcolor\":\"white\",\"linecolor\":\"white\",\"ticks\":\"\"}},\"ternary\":{\"bgcolor\":\"#E5ECF6\",\"aaxis\":{\"gridcolor\":\"white\",\"linecolor\":\"white\",\"ticks\":\"\"},\"baxis\":{\"gridcolor\":\"white\",\"linecolor\":\"white\",\"ticks\":\"\"},\"caxis\":{\"gridcolor\":\"white\",\"linecolor\":\"white\",\"ticks\":\"\"}},\"coloraxis\":{\"colorbar\":{\"outlinewidth\":0,\"ticks\":\"\"}},\"colorscale\":{\"sequential\":[[0.0,\"#0d0887\"],[0.1111111111111111,\"#46039f\"],[0.2222222222222222,\"#7201a8\"],[0.3333333333333333,\"#9c179e\"],[0.4444444444444444,\"#bd3786\"],[0.5555555555555556,\"#d8576b\"],[0.6666666666666666,\"#ed7953\"],[0.7777777777777778,\"#fb9f3a\"],[0.8888888888888888,\"#fdca26\"],[1.0,\"#f0f921\"]],\"sequentialminus\":[[0.0,\"#0d0887\"],[0.1111111111111111,\"#46039f\"],[0.2222222222222222,\"#7201a8\"],[0.3333333333333333,\"#9c179e\"],[0.4444444444444444,\"#bd3786\"],[0.5555555555555556,\"#d8576b\"],[0.6666666666666666,\"#ed7953\"],[0.7777777777777778,\"#fb9f3a\"],[0.8888888888888888,\"#fdca26\"],[1.0,\"#f0f921\"]],\"diverging\":[[0,\"#8e0152\"],[0.1,\"#c51b7d\"],[0.2,\"#de77ae\"],[0.3,\"#f1b6da\"],[0.4,\"#fde0ef\"],[0.5,\"#f7f7f7\"],[0.6,\"#e6f5d0\"],[0.7,\"#b8e186\"],[0.8,\"#7fbc41\"],[0.9,\"#4d9221\"],[1,\"#276419\"]]},\"xaxis\":{\"gridcolor\":\"white\",\"linecolor\":\"white\",\"ticks\":\"\",\"title\":{\"standoff\":15},\"zerolinecolor\":\"white\",\"automargin\":true,\"zerolinewidth\":2},\"yaxis\":{\"gridcolor\":\"white\",\"linecolor\":\"white\",\"ticks\":\"\",\"title\":{\"standoff\":15},\"zerolinecolor\":\"white\",\"automargin\":true,\"zerolinewidth\":2},\"scene\":{\"xaxis\":{\"backgroundcolor\":\"#E5ECF6\",\"gridcolor\":\"white\",\"linecolor\":\"white\",\"showbackground\":true,\"ticks\":\"\",\"zerolinecolor\":\"white\",\"gridwidth\":2},\"yaxis\":{\"backgroundcolor\":\"#E5ECF6\",\"gridcolor\":\"white\",\"linecolor\":\"white\",\"showbackground\":true,\"ticks\":\"\",\"zerolinecolor\":\"white\",\"gridwidth\":2},\"zaxis\":{\"backgroundcolor\":\"#E5ECF6\",\"gridcolor\":\"white\",\"linecolor\":\"white\",\"showbackground\":true,\"ticks\":\"\",\"zerolinecolor\":\"white\",\"gridwidth\":2}},\"shapedefaults\":{\"line\":{\"color\":\"#2a3f5f\"}},\"annotationdefaults\":{\"arrowcolor\":\"#2a3f5f\",\"arrowhead\":0,\"arrowwidth\":1},\"geo\":{\"bgcolor\":\"white\",\"landcolor\":\"#E5ECF6\",\"subunitcolor\":\"white\",\"showland\":true,\"showlakes\":true,\"lakecolor\":\"white\"},\"title\":{\"x\":0.05},\"mapbox\":{\"style\":\"light\"}}},\"xaxis\":{\"anchor\":\"y\",\"domain\":[0.0,1.0],\"title\":{\"text\":\"x\"}},\"yaxis\":{\"anchor\":\"x\",\"domain\":[0.0,1.0],\"title\":{\"text\":\"sum of y\"}},\"legend\":{\"tracegroupgap\":0},\"margin\":{\"t\":60},\"barmode\":\"relative\"},                        {\"responsive\": true}                    ).then(function(){\n",
       "                            \n",
       "var gd = document.getElementById('ebf7ce63-823e-475a-b624-66f2b5036dca');\n",
       "var x = new MutationObserver(function (mutations, observer) {{\n",
       "        var display = window.getComputedStyle(gd).display;\n",
       "        if (!display || display === 'none') {{\n",
       "            console.log([gd, 'removed!']);\n",
       "            Plotly.purge(gd);\n",
       "            observer.disconnect();\n",
       "        }}\n",
       "}});\n",
       "\n",
       "// Listen for the removal of the full notebook cells\n",
       "var notebookContainer = gd.closest('#notebook-container');\n",
       "if (notebookContainer) {{\n",
       "    x.observe(notebookContainer, {childList: true});\n",
       "}}\n",
       "\n",
       "// Listen for the clearing of the current output cell\n",
       "var outputEl = gd.closest('.output');\n",
       "if (outputEl) {{\n",
       "    x.observe(outputEl, {childList: true});\n",
       "}}\n",
       "\n",
       "                        })                };                });            </script>        </div>"
      ]
     },
     "metadata": {},
     "output_type": "display_data"
    }
   ],
   "source": [
    "# Exploring the central limit theorem in Python\n",
    "# Samples of the uniform distribution will average out to a normal distribution.\n",
    "\n",
    "import random\n",
    "import plotly.express as px\n",
    "\n",
    "sample_size = 31\n",
    "sample_count = 1000\n",
    "\n",
    "# Central limit theorem, 1000 samples each with 31\n",
    "# random numbers between 0.0 and 1.0\n",
    "x_values = [(sum([random.uniform(0.0, 1.0) for i in range(sample_size)]) / sample_size) for _ in range(sample_count)]\n",
    "\n",
    "y_values = [1 for _ in range(sample_count)]\n",
    "px.histogram(x=x_values, y = y_values, nbins=20).show()"
   ]
  },
  {
   "cell_type": "markdown",
   "id": "86d8b747",
   "metadata": {},
   "source": [
    "Here’s what is happening. The individual numbers in the samples alone will not create a normal distribution. The distribution will be flat where any number is equally likely (known as a uniform distribution). But when we group them as samples and average them, they form a normal distribution."
   ]
  },
  {
   "cell_type": "markdown",
   "id": "f1b59c34",
   "metadata": {},
   "source": [
    "* Confidence Intervals\n",
    "\n",
    "It is the range of calculation showing how confidently we believe a sample mean (or other parameter) falls in a range for the population mean.\n",
    "\n",
    "Based on a sample of 31 golden retrievers with a sample mean of 64.408 and a sample standard deviation of 2.05, I am 95% confident that the population mean lies between 63.686 and 65.1296."
   ]
  },
  {
   "cell_type": "markdown",
   "id": "a6511097",
   "metadata": {},
   "source": [
    "How do I achieve this fit???\n",
    "\n",
    "Don't be confused, lol...\n",
    "\n",
    "First, I start by choosing a $level$ $of$ $confidence$ $(LOC)$, which should contain the desired probability for the population mean range. I want to be 95% confident that my sample mean falls in the population mean range I will calculate."
   ]
  },
  {
   "cell_type": "markdown",
   "id": "2fc7eeec",
   "metadata": {},
   "source": [
    "We can leverage on the z-value which is the symmetrical range in the standard normal distribution that will give 95% probability in the center. In calculating the symmetrical values, we make use of the Cummulative Density Function (CDF). "
   ]
  },
  {
   "attachments": {
    "image-2.png": {
     "image/png": "[encoded data removed]"
    }
   },
   "cell_type": "markdown",
   "id": "2098c841",
   "metadata": {},
   "source": [
    "Logically, to get 95% of the symmetrical area in the center, we would chop off the tails that have the remaining 5% of area. Splitting that remaining 5% area in half would give us 2.5% area in each tail. Therefore, the areas we want to look up the x-values for are .025 and .975\n",
    "\n",
    "![image-2.png](attachment:image-2.png)"
   ]
  },
  {
   "cell_type": "markdown",
   "id": "b3f41bcc",
   "metadata": {},
   "source": [
    "We can look up the x-value for area .025 and the x-value for area .975, and that will give us our center range containing 95% of the area."
   ]
  },
  {
   "cell_type": "code",
   "execution_count": 68,
   "id": "5f634315",
   "metadata": {},
   "outputs": [
    {
     "name": "stdout",
     "output_type": "stream",
     "text": [
      "(-1.959963984540054, 1.959963984540054)\n"
     ]
    }
   ],
   "source": [
    "# Retrieving a critical z-value\n",
    "from scipy.stats import norm\n",
    "import math\n",
    "\n",
    "def critical_z_value(p):\n",
    "    norm_dist = norm(loc=0.0, scale=1.0)\n",
    "    left_tail_area = (1.0 - p) / 2.0\n",
    "    upper_area = 1.0 - ((1.0 - p) / 2.0)\n",
    "    return norm_dist.ppf(left_tail_area), norm_dist.ppf(upper_area)\n",
    "\n",
    "print(critical_z_value(p=0.95))\n",
    "# (-1.959963984540054, 1.959963984540054)"
   ]
  },
  {
   "cell_type": "markdown",
   "id": "512f09ac",
   "metadata": {},
   "source": [
    "OK, so we get ±1.95996, which is our critical z-value capturing 95% of\n",
    "probability at the center of the standard normal distribution."
   ]
  },
  {
   "cell_type": "markdown",
   "id": "afe8c287",
   "metadata": {},
   "source": [
    "Next, I’m going to leverage the central limit theorem to produce the margin of error (E), which is the range around the sample mean that contains the population mean at that level of confidence."
   ]
  },
  {
   "attachments": {
    "image.png": {
     "image/png": "[encoded data removed]"
    }
   },
   "cell_type": "markdown",
   "id": "5429832c",
   "metadata": {},
   "source": [
    "Recall that our sample of 31 golden retrievers has a mean of 64.408 and standard deviation of 2.05. The formula to get this margin of error is: \n",
    "![image.png](attachment:image.png)"
   ]
  },
  {
   "attachments": {
    "image.png": {
     "image/png": "[encoded data removed]"
    }
   },
   "cell_type": "markdown",
   "id": "cd2db78f",
   "metadata": {},
   "source": [
    "If we apply that margin of error against the sample mean, we finally get the confidence interval!\n",
    "![image.png](attachment:image.png)"
   ]
  },
  {
   "cell_type": "code",
   "execution_count": 71,
   "id": "3733328d",
   "metadata": {},
   "outputs": [
    {
     "name": "stdout",
     "output_type": "stream",
     "text": [
      "(63.68635915701992, 65.12964084298008)\n"
     ]
    }
   ],
   "source": [
    "# Calculating a confidence interval in Python\n",
    "from math import sqrt\n",
    "from scipy.stats import norm\n",
    "\n",
    "def critical_z_value(p):\n",
    "    norm_dist = norm(loc=0.0, scale=1.0)\n",
    "    left_tail_area = (1.0 - p) / 2.0\n",
    "    upper_area = 1.0 - ((1.0 - p) / 2.0)\n",
    "    return norm_dist.ppf(left_tail_area), norm_dist.ppf(upper_area)\n",
    "\n",
    "def confidence_interval(p, sample_mean, sample_std, n):\n",
    "    # Sample size must be greater than 30\n",
    "    lower, upper = critical_z_value(p)\n",
    "    lower_ci = lower * (sample_std / sqrt(n))\n",
    "    upper_ci = upper * (sample_std / sqrt(n))\n",
    "    return sample_mean + lower_ci, sample_mean + upper_ci\n",
    "\n",
    "\n",
    "print(confidence_interval(p=.95, sample_mean=64.408, sample_std=2.05, n=31))\n",
    "# (63.68635915701992, 65.12964084298008)"
   ]
  },
  {
   "cell_type": "markdown",
   "id": "0dedc6a9",
   "metadata": {},
   "source": [
    "So the way to interpret this is “based on my sample of 31 golden retriever weights with sample mean 64.408 and sample standard deviation of 2.05, I am 95% confident the population mean lies between 63.686 and 65.1296.” That is how we describe our confidence interval."
   ]
  },
  {
   "cell_type": "markdown",
   "id": "ab97c6ac",
   "metadata": {},
   "source": [
    "* Hypothesis Testing"
   ]
  },
  {
   "attachments": {
    "image.png": {
     "image/png": "[encoded data removed]"
    }
   },
   "cell_type": "markdown",
   "id": "72474473",
   "metadata": {},
   "source": [
    "Past studies have shown that the mean recovery time for a cold is 18 days, with a standard deviation of 1.5 days, and follows a normal distribution.\n",
    "\n",
    "This means there is approximately 95% chance of recovery taking between 15 and 21 days as shown below;\n",
    "![image.png](attachment:image.png)"
   ]
  },
  {
   "cell_type": "code",
   "execution_count": 41,
   "id": "8b4a95a2",
   "metadata": {},
   "outputs": [
    {
     "name": "stdout",
     "output_type": "stream",
     "text": [
      "0.9544997361036416\n"
     ]
    }
   ],
   "source": [
    "# Calculating the probability of recovery between 15 and 21 days\n",
    "from scipy.stats import norm\n",
    "\n",
    "# Cold has 18 day mean recovery, 1.5 std dev\n",
    "mean = 18\n",
    "std_dev = 1.5\n",
    "\n",
    "# 95% probability recovery time takes between 15 and 21 days.\n",
    "x = norm.cdf(21, mean, std_dev) - norm.cdf(15, mean, std_dev)\n",
    "\n",
    "print(x) # 0.9544997361036416"
   ]
  },
  {
   "cell_type": "markdown",
   "id": "cc01d46a",
   "metadata": {},
   "source": [
    "We can infer then from the remaining 5% probability that there’s a 2.5% chance of recovery taking longer than 21 days and a 2.5% chance of it taking fewer than 15 days. Hold onto that bit of information because it will be critical later! That drives our p-value."
   ]
  },
  {
   "attachments": {
    "image.png": {
     "image/png": "[encoded data removed]"
    }
   },
   "cell_type": "markdown",
   "id": "603df7fb",
   "metadata": {},
   "source": [
    "Now let's consider experiment of new drugs on 40 people, which took an average of 16days for them to recover as shown ![image.png](attachment:image.png)"
   ]
  },
  {
   "cell_type": "markdown",
   "id": "a4200e6e",
   "metadata": {},
   "source": [
    "We will begin to question ourselves, did the drug have an impact???\n",
    "\n",
    "This is similar to asking, does the drug show statistically significant result? or did the drug not work and the 16-day recovery was a coincidence wit test group?\n",
    "\n",
    "These questions forms basis for hypothesis, the first frames our alternative hypothesis, while the second frames the null hypothesis."
   ]
  },
  {
   "cell_type": "markdown",
   "id": "48194e8a",
   "metadata": {},
   "source": [
    "There are two ways these can be calculated;\n",
    "\n",
    "- one-tailed test\n",
    "- two-tailed test"
   ]
  },
  {
   "attachments": {
    "image.png": {
     "image/png": "[encoded data removed]"
    }
   },
   "cell_type": "markdown",
   "id": "4fd2b552",
   "metadata": {},
   "source": [
    "* One-Tailed Test\n",
    "\n",
    "When we approach the one-tailed test, we typically frame our null and alternative hypotheses using inequalities. We hypothesize around the population mean and say that it either is greater than/equal to 18 (the null hypothesis H0) or less than 18 (the alternative hypothesis H1):\n",
    "![image.png](attachment:image.png)"
   ]
  },
  {
   "cell_type": "markdown",
   "id": "9aa48cb0",
   "metadata": {},
   "source": [
    "To reject our null hypothesis, we need to show that our sample mean of the patients who took the drug is not likely to have been coincidental."
   ]
  },
  {
   "attachments": {
    "image.png": {
     "image/png": "[encoded data removed]"
    }
   },
   "cell_type": "markdown",
   "id": "8e583911",
   "metadata": {},
   "source": [
    "* Two-Tailed Test\n",
    "\n",
    "The previous test we performed is called the one-tailed test because it looks for\n",
    "statistical significance only on one tail. However, it is often safer and better\n",
    "practice to use a two-tailed test. We will elaborate why, but first let’s calculate it.\n",
    "\n",
    "\n",
    "To do a two-tailed test, we frame our null and alternative hypothesis in an “equal”\n",
    "and “not equal” structure. In our drug test, we will say the null hypothesis has a\n",
    "mean recovery time of 18 days. But our alternative hypothesis is the mean\n",
    "recovery time is not 18 days, thanks to the new drug:\n",
    "![image.png](attachment:image.png)"
   ]
  },
  {
   "cell_type": "markdown",
   "id": "1d74622a",
   "metadata": {},
   "source": [
    "This has an important implication. We are structuring our alternative hypothesis to not test whether the drug improves cold recovery time, but if it had any impact. This includes testing if it increased the duration of the cold. Is this helpful? Hold that thought."
   ]
  },
  {
   "cell_type": "code",
   "execution_count": null,
   "id": "6fbe895c",
   "metadata": {},
   "outputs": [],
   "source": []
  },
  {
   "cell_type": "code",
   "execution_count": null,
   "id": "106039c8",
   "metadata": {},
   "outputs": [],
   "source": []
  },
  {
   "cell_type": "markdown",
   "id": "eea120c3",
   "metadata": {},
   "source": [
    "# Exercise\n",
    "1. You bought a spool of 1.75 mm filament for your 3D printer. You want to\n",
    "measure how close the filament diameter really is to 1.75 mm. You use a\n",
    "caliper tool and sample the diameter five times on the spool:\n",
    "1.78, 1.75, 1.72, 1.74, 1.77\n",
    "Calculate the mean and standard deviation for this set of values.\n",
    "2. A manufacturer says the Z-Phone smart phone has a mean consumer life of\n",
    "42 months with a standard deviation of 8 months. Assuming a normal\n",
    "distribution, what is the probability a given random Z-Phone will last\n",
    "between 20 and 30 months?\n",
    "3. I am skeptical that my 3D printer filament is not 1.75 mm in average\n",
    "diameter as advertised. I sampled 34 measurements with my tool. The\n",
    "sample mean is 1.715588 and the sample standard deviation is 0.029252.\n",
    "What is the 99% confidence interval for the mean of my entire spool of\n",
    "filament?"
   ]
  },
  {
   "cell_type": "code",
   "execution_count": null,
   "id": "014d1bc8",
   "metadata": {},
   "outputs": [],
   "source": []
  }
 ],
 "metadata": {
  "kernelspec": {
   "display_name": "Python 3 (ipykernel)",
   "language": "python",
   "name": "python3"
  },
  "language_info": {
   "codemirror_mode": {
    "name": "ipython",
    "version": 3
   },
   "file_extension": ".py",
   "mimetype": "text/x-python",
   "name": "python",
   "nbconvert_exporter": "python",
   "pygments_lexer": "ipython3",
   "version": "3.10.9"
  }
 },
 "nbformat": 4,
 "nbformat_minor": 5
}
