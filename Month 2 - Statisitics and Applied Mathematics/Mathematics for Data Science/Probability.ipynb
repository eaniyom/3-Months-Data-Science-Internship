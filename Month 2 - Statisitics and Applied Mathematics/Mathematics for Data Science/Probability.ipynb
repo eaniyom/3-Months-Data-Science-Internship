{
 "cells": [
  {
   "cell_type": "markdown",
   "id": "338856dd",
   "metadata": {},
   "source": [
    "# Outline\n",
    "1. Understandng probability \n",
    "    * Probability versus statistics\n",
    "2. Probability Math\n",
    "    * Joint probabilities\n",
    "    * Union Probabilities\n",
    "    * Conditional probabilities & Bayes' Theorem\n",
    "    * Joint & Union conditional probablities\n",
    "3. Binomial distribution\n",
    "4. Beta distribution "
   ]
  },
  {
   "cell_type": "raw",
   "id": "9f6e712f",
   "metadata": {},
   "source": []
  },
  {
   "cell_type": "markdown",
   "id": "b73d6079",
   "metadata": {},
   "source": [
    "## 1. Understanding probabilities"
   ]
  },
  {
   "cell_type": "markdown",
   "id": "e0203c60",
   "metadata": {},
   "source": [
    "* Probability is the theoretical study of measuring certainty that an event will happen. It is a fundamental discipline for statistics, hypothesis testing, machine learning, and other related fields. \n",
    "\n",
    "\n",
    "* Alot of persons take probability for granted as they assume they have understood it. However, it is more complicated than what most people think. while the theorems and ideas of probability are mathematically sound, it gets more complex when introduced into data and statistcal ventures."
   ]
  },
  {
   "cell_type": "markdown",
   "id": "1f14cc70",
   "metadata": {},
   "source": [
    "#### Probability:\n",
    "is how strongly we beleive an event will occur or happen, which is often expressed in percentages.\n",
    "Here are some questions that might warrant a probability for an answer:\n",
    "* How likely will I get 7 heads in 10 fair coin flips?\n",
    "* What are my chances of winning an election?\n",
    "* Will my flight be late?\n",
    "* How certain am I that a product is defective?"
   ]
  },
  {
   "cell_type": "markdown",
   "id": "388778ae",
   "metadata": {},
   "source": [
    "The most popular way to express probability is as a percentage, as in “There is a 70% chance my flight will be late.” We will call this probability P(X), where X is the event of interest. As you work with probabilities, though, you will more likely see it expressed as a decimal (in this case .70), which must be between 0.0 and 1.0:\n",
    "\n",
    "Therefore; P(X) = .70"
   ]
  },
  {
   "cell_type": "markdown",
   "id": "889a8c23",
   "metadata": {},
   "source": [
    "There is a term known as $Likelihood$, it is similar to probability and as such could be confusing as so many will make do of the words interchangeably in conversations.  But there exist slight differences between the two words;\n",
    "\n",
    "* $Probability$ is about quantifying predictions of events yet to happen while $Likelihood$ is measuring the frequency of events that already occurred."
   ]
  },
  {
   "cell_type": "markdown",
   "id": "891ba809",
   "metadata": {},
   "source": [
    "In statistics and machine learning, we often use likelihood (the past) in the form of data to predict probability (the future)."
   ]
  },
  {
   "cell_type": "markdown",
   "id": "239ed4b7",
   "metadata": {},
   "source": [
    "It is important to note that a probability of an event happening must be strictly between 0% and 100%, or 0.0 and 1.0. Logically, this means the probability of an event not happening is calculated by subtracting the probability of the event from 1.0:"
   ]
  },
  {
   "cell_type": "markdown",
   "id": "f967d471",
   "metadata": {},
   "source": [
    "<center>\n",
    "P(X) = .70"
   ]
  },
  {
   "cell_type": "markdown",
   "id": "c550cc67",
   "metadata": {},
   "source": [
    "<center>    \n",
    "P(not X) = 1 − .70 = .30"
   ]
  },
  {
   "cell_type": "markdown",
   "id": "60972f9d",
   "metadata": {},
   "source": [
    "This is another distinction between probability and likelihood. Probabilities of all possible mutually exclusive outcomes for an event (meaning only one outcome can occur, not multiple) must sum to 1.0 or 100%. Likelihoods, however, are not subject to this rule."
   ]
  },
  {
   "cell_type": "markdown",
   "id": "7866ed9d",
   "metadata": {},
   "source": [
    "Alternatively, probability can be expressed as an odds O(X) such as 7:3, 7/3.\n",
    "To turn an odds O(X) into a proportional probability P(X), use this formula: \n",
    "<center>\n",
    "$P(X) = O(X)/(1+O(X))$"
   ]
  },
  {
   "cell_type": "markdown",
   "id": "6ed330fe",
   "metadata": {},
   "source": [
    "Conversely, you can turn an odds into a probability simply by dividing the probability of the event occurring by the probability it will not occur:\n",
    "<center>\n",
    "$O(X) = P(X)/(1-P(X))$"
   ]
  },
  {
   "cell_type": "markdown",
   "id": "7c5e8af4",
   "metadata": {},
   "source": [
    "#### Probability versus Statistics\n",
    "Sometimes people use the terms $probability$ and $statistics$ interchangeably, and while it is understandable to conflate the two disciplines, they do have distinctions. $Probability$ is purely theoretical of how likely an event is to happen and does not require data. $Statistics$, on the other hand, cannot exist without data and uses it to discover probability and provides tools to describe data."
   ]
  },
  {
   "cell_type": "markdown",
   "id": "0725200a",
   "metadata": {},
   "source": [
    "Think of predicting the outcome of rolling a 4 on a die (that’s the singular of dice). Approaching the problem with a pure probability mindset, one simply says there are six sides on a die. We assume each side is equally likely, so the probability of getting a 4 is 1/6, or 16.666%. \n",
    "\n",
    "However, a zealous statistician might say, “No! We need to roll the die to get data. If we can get 30 rolls or more, and the more rolls we do the better, only then will we have data to determine the probability of getting a 4.” This approach may seem silly if\n",
    "\n",
    "we assume the die is fair, but what if it’s not? If that’s the case, collecting data is the only way to discover the probability of rolling a 4"
   ]
  },
  {
   "cell_type": "raw",
   "id": "5cc22af9",
   "metadata": {},
   "source": []
  },
  {
   "cell_type": "markdown",
   "id": "de841c37",
   "metadata": {},
   "source": [
    "## 2. Probability Math\n",
    "we have been working with a single probability of an event P(X), known as a $marginal probability$, which is not fairly striaghtforward as we need to combine probabilities of different events."
   ]
  },
  {
   "cell_type": "markdown",
   "id": "9b9162d2",
   "metadata": {},
   "source": [
    "#### Joint Probabilities"
   ]
  },
  {
   "cell_type": "markdown",
   "id": "7c61bfe2",
   "metadata": {},
   "source": [
    "Let’s say you have a fair coin and a fair six-sided die. You want to find the probability of flipping a heads and rolling a 6 on the coin and die, respectively. These are two separate probabilities of two separate events, but we want to find the probability that both events will occur together. This is known as a $joint probability$."
   ]
  },
  {
   "cell_type": "markdown",
   "id": "7aeaa71f",
   "metadata": {},
   "source": [
    "Think of a joint probability as an AND operator. I want to find the probability of flipping a heads AND rolling a 6. We want both events to happen together, so how do we calculate this probability?"
   ]
  },
  {
   "cell_type": "markdown",
   "id": "87cec3a7",
   "metadata": {},
   "source": [
    "There are two sides on a coin and six sides on the die, so the probability of heads is 1/2 and the probability of six is 1/6. The probability of both events occurring (assuming they are independent, more on this later!) is simply multiplying the two together: \n",
    "<center>\n",
    "$P(A AND B) = P(A) × P(B)$"
   ]
  },
  {
   "cell_type": "markdown",
   "id": "985fded0",
   "metadata": {},
   "source": [
    "<center>\n",
    "$P (heads) = 1/2$"
   ]
  },
  {
   "cell_type": "markdown",
   "id": "4bda1adc",
   "metadata": {},
   "source": [
    "<center>\n",
    "$P(6) = 1/6$"
   ]
  },
  {
   "cell_type": "markdown",
   "id": "e9e378de",
   "metadata": {},
   "source": [
    "<center>\n",
    "$P(heads AND 6) = 1/2 x 1/6 = 1/12$"
   ]
  },
  {
   "cell_type": "markdown",
   "id": "dab0998a",
   "metadata": {},
   "source": [
    "There are rules for probabilities that can be generated which they include;\n",
    "* The product rule\n",
    "\n",
    "<center>\n",
    "$P(A AND B) = P(A) x P(B)$"
   ]
  },
  {
   "cell_type": "markdown",
   "id": "03d41c8c",
   "metadata": {},
   "source": [
    "<center>\n",
    "    $P(heads AND 6) = 1/2 x 1/6 = 1/12$"
   ]
  },
  {
   "cell_type": "markdown",
   "id": "35f15cff",
   "metadata": {},
   "source": [
    "#### Union Probabilities"
   ]
  },
  {
   "cell_type": "markdown",
   "id": "141b73c5",
   "metadata": {},
   "source": [
    "We discussed joint probabilities, which is the probability of two or more events occurring simultaneously. But what about the probability of getting event A or B? When we deal with OR operations with probabilities."
   ]
  },
  {
   "cell_type": "markdown",
   "id": "dcf6ce68",
   "metadata": {},
   "source": [
    "Let’s start with $mutually$ $exclusive$ events, which are events that cannot occur simultaneously. For example, if I roll one die I cannot simultaneously get a 4 and a 6. I can only get one outcome. Getting the union probability for these cases is easy. I simply add them together. If I want to find the probability of getting a 4 or 6 on a die roll, it is going to be 2/6 = 1/3: the second rule is referred to as;\n",
    "\n",
    "* union probability (rule)"
   ]
  },
  {
   "cell_type": "markdown",
   "id": "477b225e",
   "metadata": {},
   "source": [
    "<center>\n",
    "$P(4) = 1/6$"
   ]
  },
  {
   "cell_type": "markdown",
   "id": "e4b68fa1",
   "metadata": {},
   "source": [
    "<center>\n",
    "$P(6) = 1/6$"
   ]
  },
  {
   "cell_type": "markdown",
   "id": "9fda2050",
   "metadata": {},
   "source": [
    "<center>\n",
    "$P(4 OR 6) = 1/6 + 1/6 = 1/3$"
   ]
  },
  {
   "cell_type": "markdown",
   "id": "902cae01",
   "metadata": {},
   "source": [
    "#### Conditional Probability and Bayes’ Theorem"
   ]
  },
  {
   "cell_type": "markdown",
   "id": "e3f4aaa4",
   "metadata": {},
   "source": [
    "A probability topic that easily confuses people is the concept of $conditional probability$, which is the probability of an event A occurring given event B has occurred. It is typically expressed as \n",
    "\n",
    "P(A GIVEN B) or P(A|B)."
   ]
  },
  {
   "cell_type": "markdown",
   "id": "f20c2a00",
   "metadata": {},
   "source": [
    "Let’s say a study makes a claim that 85% of cancer patients drank coffee. How do you react to this claim? Does this alarm you and make you want to abandon your favorite morning drink? Let’s first define this as a conditional probability P(Coffee given Cancer) or P(Coffee|Cancer). This represents a probability of people who drink coffee given they have cancer."
   ]
  },
  {
   "cell_type": "markdown",
   "id": "3c9a7c38",
   "metadata": {},
   "source": [
    "Within the United States, let’s compare this to the percentage of people diagnosed with cancer (0.5% according to cancer.gov) and the percentage of people who drink coffee (65% according to statista.com):"
   ]
  },
  {
   "cell_type": "markdown",
   "id": "291675fa",
   "metadata": {},
   "source": [
    "<center>\n",
    "    $P(Coffee) = .65$"
   ]
  },
  {
   "cell_type": "markdown",
   "id": "a62954b6",
   "metadata": {},
   "source": [
    "<center>\n",
    "    $P(Cancer) = .005$"
   ]
  },
  {
   "cell_type": "markdown",
   "id": "5a2e1c81",
   "metadata": {},
   "source": [
    "<center>\n",
    "    $P(Coffee|Cancer) = .85$"
   ]
  },
  {
   "cell_type": "markdown",
   "id": "a6ae0664",
   "metadata": {},
   "source": [
    "The “probability of having cancer given you are a coffee drinker” is different from the “probability of being a coffee drinker given you have cancer.”\n",
    "\n",
    "To put it simply: few coffee drinkers have cancer, but many cancer patients drink coffee."
   ]
  },
  {
   "cell_type": "markdown",
   "id": "b37aef4a",
   "metadata": {},
   "source": [
    "<center>\n",
    "    $P(Cancer|Coffee) =?$"
   ]
  },
  {
   "cell_type": "markdown",
   "id": "1e3ae99a",
   "metadata": {},
   "source": [
    "Thus the use of Bayes' Theorem can be applied to flip the conditional probabilities"
   ]
  },
  {
   "cell_type": "markdown",
   "id": "092fde17",
   "metadata": {},
   "source": [
    "<center>\n",
    "$P(A|B) = P(B|A)P(A)/P(B)$"
   ]
  },
  {
   "cell_type": "markdown",
   "id": "d2749ab7",
   "metadata": {},
   "source": [
    "<center>\n",
    "$P(Cancer|Coffee) = .85*.005/.65 = .0065$"
   ]
  },
  {
   "cell_type": "code",
   "execution_count": 1,
   "id": "f8de573c",
   "metadata": {},
   "outputs": [
    {
     "name": "stdout",
     "output_type": "stream",
     "text": [
      "0.006538461538461539\n"
     ]
    }
   ],
   "source": [
    "# Using Bayes’ Theorem in Python\n",
    "\n",
    "p_coffee_drinker = .65 #pty of people taking coffer\n",
    "p_cancer = .005 #pty of those with cancer\n",
    "\n",
    "p_coffee_drinker_given_cancer = .85 #pty of coffee drinkers  given cancer\n",
    "\n",
    "p_cancer_given_coffee_drinker = p_coffee_drinker_given_cancer * p_cancer / p_coffee_drinker\n",
    "# prints 0.006538461538461539\n",
    "print(p_cancer_given_coffee_drinker)"
   ]
  },
  {
   "cell_type": "markdown",
   "id": "03889b0f",
   "metadata": {},
   "source": [
    "So the probability someone has cancer given they are a coffee drinker is only 0.65%!\n",
    "\n",
    "This number is very different from the probability someone is a coffee drinker given they have cancer, which is 85%. Now do you see why the direction of the condition matters? Bayes’ Theorem is helpful for this reason. It can also be used to chain several conditional probabilities together to keep updating our beliefs based on new information."
   ]
  },
  {
   "cell_type": "markdown",
   "id": "60565fc6",
   "metadata": {},
   "source": [
    "#### Joint & Union conditional probablities"
   ]
  },
  {
   "cell_type": "markdown",
   "id": "f9b155e6",
   "metadata": {},
   "source": [
    "Let’s revisit joint probabilities and how they interact with conditional probabilities. I want to find the probability somebody is a coffee drinker AND they have cancer. Should I multiply P(Coffee) and P(Cancer)? Or should I use P(Coffee|Cancer) in place of P(Coffee) if it is available? Which one do I use?\n",
    "\n",
    "<center>\n",
    "    Optional 1"
   ]
  },
  {
   "cell_type": "markdown",
   "id": "a6665bc4",
   "metadata": {},
   "source": [
    "<center>\n",
    "   $P(Coffee) × P(Cancer) = .65 × .005 = .00325$"
   ]
  },
  {
   "cell_type": "markdown",
   "id": "dddf456b",
   "metadata": {},
   "source": [
    "<center>\n",
    "    Option 2"
   ]
  },
  {
   "cell_type": "markdown",
   "id": "7363047d",
   "metadata": {},
   "source": [
    "<center>\n",
    "    $P(Coffee|Cancer) × P(Cancer) = .85 × .005 = .00425$"
   ]
  },
  {
   "cell_type": "markdown",
   "id": "956b823c",
   "metadata": {},
   "source": [
    "If we already have established our probability applies only to people with cancer, does it not make sense to use P(Coffee|Cancer) instead of P(Coffee)? One is more\n",
    "specific and applies to a condition that’s already been established. So we should use\n",
    "P(Coffee|Cancer) as P(Cancer) is already part of our joint probability. This means\n",
    "the probability of someone having cancer and being a coffee drinker is 0.425%:"
   ]
  },
  {
   "cell_type": "markdown",
   "id": "9e6317dc",
   "metadata": {},
   "source": [
    "This joint probability also applies in the other direction. I can find the probability of\n",
    "someone being a coffee drinker and having cancer by multiplying P(Cancer|Coffee)\n",
    "and P(Coffee)."
   ]
  },
  {
   "cell_type": "markdown",
   "id": "78cd74ef",
   "metadata": {},
   "source": [
    "Now think about this: if event A has no impact on event B, then what does that mean\n",
    "for conditional probability P(B|A)? That means P(B|A) = P(B), meaning event A\n",
    "occurring makes no difference to how likely event B is to occur. Therefore we can\n",
    "update our joint probability formula, regardless if the two events are dependent, to be:\n",
    "\n",
    "P(A AND B) = P(B) × P(A|B)"
   ]
  },
  {
   "cell_type": "markdown",
   "id": "19dcad60",
   "metadata": {},
   "source": [
    "And finally let’s talk about unions and conditional probability. If I wanted to calculate\n",
    "the probability of A or B occurring, but A may affect the probability of B, we update\n",
    "our sum rule like this:\n",
    "\n",
    "\n",
    "P(A OR B) = P(A) + P(B) − P(A|B) × P(B)\n",
    "\n",
    "As a reminder, this applies to mutually exclusive events as well. The sum rule P(A|B)\n",
    "× P(B) would yield 0 if the events A and B cannot happen simultaneously."
   ]
  },
  {
   "cell_type": "code",
   "execution_count": null,
   "id": "0d451253",
   "metadata": {},
   "outputs": [],
   "source": []
  },
  {
   "cell_type": "markdown",
   "id": "7bb6b421",
   "metadata": {},
   "source": [
    "## 3. Binomial distribution"
   ]
  },
  {
   "cell_type": "markdown",
   "id": "50d2311b",
   "metadata": {},
   "source": [
    "Binomial distribution is calculated by multiplying the probability of success raised to the power of the number of successes and the probability of failure raised to the power of the difference between the number of successes and the number of trials."
   ]
  },
  {
   "attachments": {
    "image.png": {
     "image/png": "[encoded data removed]"
    }
   },
   "cell_type": "markdown",
   "id": "d3139d41",
   "metadata": {},
   "source": [
    "![image.png](attachment:image.png)"
   ]
  },
  {
   "cell_type": "markdown",
   "id": "8f8a7914",
   "metadata": {},
   "source": [
    "for k = 0, 1, 2, ..., n, where"
   ]
  },
  {
   "attachments": {
    "image.png": {
     "image/png": "[encoded data removed]"
    }
   },
   "cell_type": "markdown",
   "id": "629ec41a",
   "metadata": {},
   "source": [
    "![image.png](attachment:image.png)"
   ]
  },
  {
   "cell_type": "code",
   "execution_count": 6,
   "id": "80334447",
   "metadata": {},
   "outputs": [
    {
     "name": "stdout",
     "output_type": "stream",
     "text": [
      "0 - 9.999999999999978e-11\n",
      "1 - 8.999999999999978e-09\n",
      "2 - 3.6449999999999943e-07\n",
      "3 - 8.747999999999991e-06\n",
      "4 - 0.00013778099999999974\n",
      "5 - 0.0014880347999999982\n",
      "6 - 0.011160260999999996\n",
      "7 - 0.05739562799999997\n",
      "8 - 0.1937102444999998\n",
      "9 - 0.38742048899999976\n",
      "10 - 0.3486784401000001\n"
     ]
    }
   ],
   "source": [
    "# Using SciPy for the binomial distribution\n",
    "from scipy.stats import binom\n",
    "n = 10\n",
    "p = 0.9\n",
    "for k in range(n + 1):\n",
    "    probability = binom.pmf(k, n, p)\n",
    "    print(\"{0} - {1}\".format(k, probability))"
   ]
  },
  {
   "cell_type": "markdown",
   "id": "eb80b624",
   "metadata": {},
   "source": [
    "As you can see, we provide n as the number of trials, p as the probability of success for\n",
    "each trial, and k as the number of successes we want to look up the probability for. We\n",
    "iterate each number of successes x with the corresponding probability we would see\n",
    "that many successes. As we can see in the output, the most likely number of successes\n",
    "is nine."
   ]
  },
  {
   "cell_type": "markdown",
   "id": "d932e885",
   "metadata": {},
   "source": [
    "## 4. Beta Distribution"
   ]
  },
  {
   "cell_type": "markdown",
   "id": "47b4a8e2",
   "metadata": {},
   "source": [
    "The beta distribution allows us to see the likelihood of different\n",
    "underlying probabilities for an event to occur given alpha successes and beta failures"
   ]
  },
  {
   "cell_type": "code",
   "execution_count": 7,
   "id": "21dd33cb",
   "metadata": {},
   "outputs": [
    {
     "name": "stdout",
     "output_type": "stream",
     "text": [
      "0.7748409780000002\n"
     ]
    }
   ],
   "source": [
    "# Beta distribution using SciPy\n",
    "from scipy.stats import beta\n",
    "a = 8\n",
    "b = 2\n",
    "\n",
    "p = beta.cdf(.90, a, b)\n",
    "# 0.7748409780000001\n",
    "print(p)"
   ]
  },
  {
   "cell_type": "code",
   "execution_count": null,
   "id": "e84acacd",
   "metadata": {},
   "outputs": [],
   "source": []
  },
  {
   "cell_type": "code",
   "execution_count": null,
   "id": "5014c8aa",
   "metadata": {},
   "outputs": [],
   "source": []
  },
  {
   "cell_type": "code",
   "execution_count": null,
   "id": "95d3b872",
   "metadata": {},
   "outputs": [],
   "source": []
  },
  {
   "cell_type": "code",
   "execution_count": null,
   "id": "58fd2128",
   "metadata": {},
   "outputs": [],
   "source": []
  },
  {
   "cell_type": "markdown",
   "id": "0f18ef4c",
   "metadata": {},
   "source": [
    "### Exercise\n",
    "\n",
    "##### Section  A\n",
    "There is a 30% chance of rain today, and a 40% chance your umbrella order will arrive on time. You are eager to walk in the rain today and cannot do so without either! \n",
    "\n",
    "1. What is the probability it will rain AND your umbrella will arrive?\n",
    "\n",
    "2. What is the probability it will not rain OR your umbrella arrives?\n",
    "\n",
    "3. There is a 30% chance of rain today, and a 40% chance your umbrella order will arrive on time. However, you found out if it rains there is only a 20% chance your umbrella will arrive on time.\n",
    "\n",
    "##### Section B\n",
    "1. You flipped a coin 19 times and got heads 15 times and tails 4 times. Do you think this coin has any good probability of being fair? Why or why not?"
   ]
  },
  {
   "cell_type": "markdown",
   "id": "e7a0c52d",
   "metadata": {},
   "source": [
    "### Answers\n",
    "\n",
    "##### Section A"
   ]
  },
  {
   "cell_type": "code",
   "execution_count": 6,
   "id": "1e69c55f",
   "metadata": {},
   "outputs": [
    {
     "name": "stdout",
     "output_type": "stream",
     "text": [
      "Probability of rain AND umbrella arrival is: 0.12\n"
     ]
    }
   ],
   "source": [
    "# 1. The probability it will rain AND your umbrella will arrive?\n",
    "# This is referred to a joint probability\n",
    "\n",
    "pty_rain = 0.3\n",
    "pty_umb = 0.4\n",
    "\n",
    "pty_rain_umb = pty_rain * pty_umb\n",
    "print('Probability of rain AND umbrella arrival is: {}'.format(pty_rain_umb))"
   ]
  },
  {
   "cell_type": "code",
   "execution_count": 8,
   "id": "33891bf0",
   "metadata": {},
   "outputs": [
    {
     "name": "stdout",
     "output_type": "stream",
     "text": [
      "Probability of NO rain OR umbrella arrival is: 0.9800000000000001\n"
     ]
    }
   ],
   "source": [
    "# 2. What is the probability it will not rain OR your umbrella arrives?\n",
    "# This is known as Union Probability\n",
    "\n",
    "pty_rain = 0.3\n",
    "pty_umb = 0.4\n",
    "pty_rain_umb = pty_rain * pty_umb\n",
    "\n",
    "pty_not_rain = 1 - pty_rain\n",
    "\n",
    "\n",
    "pty_rain_umb_not = pty_not_rain + pty_umb - pty_rain_umb\n",
    "print('Probability of NO rain OR umbrella arrival is: {}'.format(pty_rain_umb_not))"
   ]
  },
  {
   "cell_type": "code",
   "execution_count": 11,
   "id": "ea9bb962",
   "metadata": {},
   "outputs": [
    {
     "name": "stdout",
     "output_type": "stream",
     "text": [
      "Probability of umbrella arriving is: 0.06\n"
     ]
    }
   ],
   "source": [
    "# 3. There is a 30% chance of rain today, and a 40% chance your umbrella order will arrive on time. However, you found out if it rains there is only a 20% chance your umbrella will arrive on time\n",
    "\n",
    "pty_rain = 0.3\n",
    "pty_umb_given_rain = .2\n",
    "\n",
    "pty_umb = pty_rain*pty_umb_given_rain\n",
    "print('Probability of umbrella arriving is: {}'.format(pty_umb))"
   ]
  },
  {
   "cell_type": "code",
   "execution_count": null,
   "id": "78af8a66",
   "metadata": {},
   "outputs": [],
   "source": []
  }
 ],
 "metadata": {
  "kernelspec": {
   "display_name": "Python 3 (ipykernel)",
   "language": "python",
   "name": "python3"
  },
  "language_info": {
   "codemirror_mode": {
    "name": "ipython",
    "version": 3
   },
   "file_extension": ".py",
   "mimetype": "text/x-python",
   "name": "python",
   "nbconvert_exporter": "python",
   "pygments_lexer": "ipython3",
   "version": "3.10.9"
  }
 },
 "nbformat": 4,
 "nbformat_minor": 5
}
